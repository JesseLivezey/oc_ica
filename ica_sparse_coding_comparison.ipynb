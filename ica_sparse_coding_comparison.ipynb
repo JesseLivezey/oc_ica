{
 "cells": [
  {
   "cell_type": "markdown",
   "metadata": {},
   "source": [
    "# Comparison between ICA and sparse coding"
   ]
  },
  {
   "cell_type": "code",
   "execution_count": null,
   "metadata": {
    "collapsed": false
   },
   "outputs": [],
   "source": [
    "from __future__ import division\n",
    "import numpy as np\n",
    "from numpy.linalg import svd,norm,pinv,eig,inv\n",
    "from sklearn.feature_extraction import image\n",
    "from h5py import File\n",
    "from scipy.stats import entropy\n",
    "\n",
    "from models import ica, sc\n",
    "\n",
    "import evaluate_degeneracy_controls as dgcs\n",
    "reload(dgcs)\n",
    "\n",
    "from utils import tile_raster_images as tri\n",
    "\n",
    "import matplotlib as mpl\n",
    "import matplotlib.pyplot as plt\n",
    "# Enable inline plotting\n",
    "%matplotlib inline\n",
    "# Set some default plotting parameters\n",
    "mpl.rcParams['image.aspect'] = 'auto'\n",
    "mpl.rcParams['image.interpolation'] = 'nearest'\n",
    "mpl.rcParams['image.cmap'] = 'gray'\n",
    "mpl.rcParams['figure.figsize'] = (6, 6)\n",
    "mpl.rcParams['xtick.labelsize'] = 12\n",
    "mpl.rcParams['ytick.labelsize'] = 12\n",
    "mpl.rcParams['axes.labelsize']  = 20\n",
    "mpl.rcParams['legend.fontsize'] = 20"
   ]
  },
  {
   "cell_type": "markdown",
   "metadata": {},
   "source": [
    "# Helper functions"
   ]
  },
  {
   "cell_type": "code",
   "execution_count": null,
   "metadata": {
    "collapsed": true
   },
   "outputs": [],
   "source": [
    "def load_data(filename, key, patch_size, total_samples):\n",
    "    with File(filename,'r') as f:\n",
    "        ims = f[key].value\n",
    "    rng = np.random.RandomState(1234)\n",
    "    patches = image.PatchExtractor(patch_size=(patch_size, patch_size),\\\n",
    "                               max_patches=total_samples//ims.shape[0],\n",
    "                               random_state=rng).transform(ims)\n",
    "    return patches.reshape((patches.shape[0],patch_size**2)).T \n",
    "\n",
    "def decorrelate(X):\n",
    "    d, u = eig(np.cov(X))\n",
    "    K = np.sqrt(inv(np.diag(d))).dot(u.T)\n",
    "    X_zca = u.dot(K).dot(X)\n",
    "    return X_zca\n",
    "\n",
    "def dist_identity(A,B):\n",
    "    P = A.dot(B.T)\n",
    "    P_ = np.zeros_like(P)\n",
    "    max_idx = np.argmax(abs(P),1)\n",
    "    P_[np.arange(P.shape[0]),max_idx]=1\n",
    "    idx = np.argsort(max_idx)\n",
    "    P_ = P_[idx]\n",
    "    P = P[idx]\n",
    "    try:\n",
    "        return P,P_,norm(P_-np.eye(P_.shape[0])),max_idx \n",
    "    except:\n",
    "        return P,P_,None,max_idx \n",
    "\n",
    "def ica_sparsity(W,x):\n",
    "    return np.log(np.cosh(W.dot(x))).sum(axis=0).mean()\n",
    "\n",
    "def sc_sparsity(z):\n",
    "    return abs(z).sum(axis=0).mean()\n",
    "\n",
    "def kl(a,b):\n",
    "    return entropy(a,b)"
   ]
  },
  {
   "cell_type": "markdown",
   "metadata": {},
   "source": [
    "# Generate toy data "
   ]
  },
  {
   "cell_type": "code",
   "execution_count": null,
   "metadata": {
    "collapsed": false,
    "scrolled": true
   },
   "outputs": [],
   "source": [
    "patch_size = 8\n",
    "total_samples = 50000\n",
    "rng = np.random.RandomState(1234)\n",
    "true_oc = 6\n",
    "dim_input = patch_size**2\n",
    "dim_sparse = dim_input*true_oc\n",
    "initial_conditions = ['random']\n",
    "degeneracy_control = ['L2']\n",
    "\n",
    "\n",
    "#generate dictionary\n",
    "W, _ = dgcs.evaluate_dgcs(initial_conditions, degeneracy_control,\n",
    "                             dim_sparse, dim_input)\n",
    "W = np.squeeze(W)\n",
    "A = pinv(W)\n",
    "\n",
    "#generate sources\n",
    "S = rng.laplace(0,1e3,size=(dim_sparse,total_samples))\n",
    "\n",
    "gram_diff = W.dot(W.T)-np.eye(W.shape[0])\n",
    "mu = abs(gram_diff).max()\n",
    "\n",
    "k = 20\n",
    "if k>mu:\n",
    "    print \"\\nWarning: k>mu: mu=%s\"%str(mu)\n",
    "    print \"Expected k<= %s\"%str(1 + mu**(-1))\n",
    "    k=int(np.floor(1 + mu**(-1)))\n",
    "    print \"New k=%i\"%k\n",
    "\n",
    "if k is not None:\n",
    "    for ii in range(total_samples):\n",
    "        #zero = rng.permutation(dim_sparse)[:dim_sparse-k]\n",
    "        #S[zero, ii] = 0.\n",
    "        S[np.argsort(abs(S[:,ii]))[:-k],ii]=0\n",
    "\n",
    "S /= S.std(axis=-1,keepdims=True)\n",
    "\n",
    "#generate data\n",
    "X = A.dot(S)\n",
    "\n",
    "#preprocess data\n",
    "X_mean = X.mean(axis=-1, keepdims=True)\n",
    "X -= X_mean\n",
    "X_zca = decorrelate(X)"
   ]
  },
  {
   "cell_type": "markdown",
   "metadata": {},
   "source": [
    "Inspect source distribution"
   ]
  },
  {
   "cell_type": "code",
   "execution_count": null,
   "metadata": {
    "collapsed": false
   },
   "outputs": [],
   "source": [
    "_ = plt.hist(S[0],100)"
   ]
  },
  {
   "cell_type": "markdown",
   "metadata": {},
   "source": [
    "# Sparse coding"
   ]
  },
  {
   "cell_type": "code",
   "execution_count": null,
   "metadata": {
    "collapsed": false
   },
   "outputs": [],
   "source": [
    "est_oc = true_oc\n",
    "dim_sparse = dim_input*est_oc\n",
    "lambd = 1.\n",
    "sc_model = sc.SparseCoding(n_mixtures=dim_input,\n",
    "                           n_sources=dim_sparse,\n",
    "                           lambd=lambd)"
   ]
  },
  {
   "cell_type": "code",
   "execution_count": null,
   "metadata": {
    "collapsed": false,
    "scrolled": true
   },
   "outputs": [],
   "source": [
    "sc_model.fit(X_zca)"
   ]
  },
  {
   "cell_type": "markdown",
   "metadata": {},
   "source": [
    "# ICA"
   ]
  },
  {
   "cell_type": "code",
   "execution_count": null,
   "metadata": {
    "collapsed": false
   },
   "outputs": [],
   "source": [
    "degeneracy_control = 'Lp'\n",
    "p=4\n",
    "lambd = 100.\n",
    "ica_model = ica.ICA(n_mixtures=dim_input,n_sources=dim_sparse,lambd=lambd,\n",
    "                degeneracy=degeneracy_control,p=p)"
   ]
  },
  {
   "cell_type": "code",
   "execution_count": null,
   "metadata": {
    "collapsed": false,
    "scrolled": false
   },
   "outputs": [],
   "source": [
    "ica_model.fit(X_zca)"
   ]
  },
  {
   "cell_type": "markdown",
   "metadata": {},
   "source": [
    "# Plotting functions"
   ]
  },
  {
   "cell_type": "code",
   "execution_count": null,
   "metadata": {
    "collapsed": false
   },
   "outputs": [],
   "source": [
    "def plot_bases(bases,figsize=None):\n",
    "    \"\"\"Plots a basis set\n",
    "    \n",
    "    Parameters:\n",
    "    ----------\n",
    "    bases : ndarray\n",
    "           Set of bases.\n",
    "           Dimension: n_atoms X n_dims\n",
    "    figname: string, optional\n",
    "           Name of the figure\n",
    "    \"\"\"\n",
    "    n_pixels = int(np.sqrt(bases.shape[1]))\n",
    "    n_bases  = int(np.sqrt(bases.shape[0]))\n",
    "    if figsize is None:\n",
    "        fig = plt.figure()\n",
    "    else:\n",
    "        fig = plt.figure(figsize=figsize)\n",
    "    fig.clf()\n",
    "    ax = plt.axes()\n",
    "    im = tri(bases,(n_pixels,n_pixels),(n_bases,n_bases),\n",
    "                (2,2), scale_rows_to_unit_interval=False,\n",
    "                output_pixel_vals=False)\n",
    "    ax.imshow(im)\n",
    "    ax.set_axis_off()\n",
    "    plt.show()\n",
    "    \n",
    "def plot_angleHist(angles,labels,normed=True,ax=None):\n",
    "    H = []\n",
    "    if ax is None:\n",
    "        fig = plt.figure('angle_hist',figsize=(4,4))\n",
    "        fig.clf()\n",
    "        ax = plt.axes([.15,.1,.8,.8])\n",
    "    col = np.linspace(0,1,len(labels))\n",
    "    for i in xrange(len(labels)):\n",
    "        H.append(np.histogram(angles[i],np.arange(0,91),normed=normed)[0])\n",
    "        b = np.arange(1,91)\n",
    "        if i>0:\n",
    "            kl_val = kl(H[i],H[0])\n",
    "            if kl_val==np.inf:\n",
    "                kl_val = kl(H[0],H[i])\n",
    "            labels[i]+='; kl: '+str(kl_val)\n",
    "        ax.plot(b,H[i],drawstyle='steps-pre',color=plt.cm.viridis(col[i]),lw=1.5,label=labels[i])\n",
    "    ax.set_yscale('log')\n",
    "    if not normed:\n",
    "        ax.set_ylabel('Counts')\n",
    "        ax.set_yticks([1e0,1e2,1e4])\n",
    "    else:\n",
    "        ax.set_ylabel('Density',labelpad=-10)\n",
    "        ax.set_yticks([1e-5,1e0])\n",
    "        \n",
    "    ax.yaxis.set_minor_locator(mpl.ticker.NullLocator())\n",
    "    ax.set_xlim(20,90)\n",
    "    ax.legend(loc='upper left', frameon=False,ncol=1)\n",
    "    ax.set_xlabel(r'$\\theta$',labelpad=0)\n",
    "    ax.set_xticks([20,55,90])\n",
    "    plt.show()\n",
    "\n",
    "def plot_perm(A,B,binary=True,order=True,ax=None,threshold=None):\n",
    "    if ax is None:\n",
    "        fig = plt.figure('perm_mat')\n",
    "        ax = fig.add_subplot(111)\n",
    "    P = A.dot(B.T)\n",
    "    P_ = np.zeros_like(P)\n",
    "    if threshold is None:\n",
    "        max_idx = np.array([np.arange(P.shape[0]),np.argmax(abs(P),1)])\n",
    "    else:\n",
    "        max_idx = np.where(abs(P)>=threshold)\n",
    "        print len(max_idx[0]), len(np.unique(max_idx[0]))\n",
    "\n",
    "    if order and threshold is None:\n",
    "        idx = np.argsort(max_idx)\n",
    "    else:\n",
    "        idx = np.arange(P.shape[0])\n",
    "\n",
    "    if binary:\n",
    "        P_[max_idx]=1\n",
    "        im = ax.imshow(P_[idx])\n",
    "    else:\n",
    "        im = ax.imshow(P[idx])\n",
    "    return im\n",
    "\n",
    "def plot_results(W,ica_bases,sc_bases):\n",
    "    W_angles = dgcs.compute_angles(W)\n",
    "    ica_angles = dgcs.compute_angles(ica_bases)\n",
    "    sc_angles = dgcs.compute_angles(sc_bases)\n",
    "\n",
    "    fig = plt.figure(figsize=(12,4))\n",
    "    P1, P_ica, d_ica, _  = dist_identity(W,ica_bases)\n",
    "    ax1 = fig.add_subplot(131)\n",
    "    im = ax1.imshow(P1)\n",
    "    if d_ica is not None:\n",
    "        #ax1.set_title(r'ICA; $||ord(P)-I||_2$=%.2f'%d_ica)\n",
    "        ax1.set_title(r'ICA; $\\sigma$=%.2f'%P_ica.sum(0).std())\n",
    "\n",
    "    P2, P_sc, d_sc, _  = dist_identity(W,sc_bases)\n",
    "    ax2 = fig.add_subplot(132)\n",
    "    im = ax2.imshow(P2)\n",
    "    if d_sc is not None:\n",
    "        #ax2.set_title(r'SC; $||ord(P)-I||_2$=%.2f'%d_sc)\n",
    "        ax2.set_title(r'SC; $\\sigma$=%.2f'%P_sc.sum(0).std())\n",
    "                      \n",
    "\n",
    "    ax3 = fig.add_subplot(133)\n",
    "    plot_angleHist([W_angles,sc_angles,ica_angles],['original','sc','ica'],ax=ax3)\n",
    "    \n",
    "def plot_results2(W,ica_bases,sc_bases,threshold=.8):\n",
    "\n",
    "    W_angles = dgcs.compute_angles(W)\n",
    "    ica_angles = dgcs.compute_angles(ica_bases)\n",
    "    sc_angles = dgcs.compute_angles(sc_bases)\n",
    "\n",
    "    fig = plt.figure(figsize=(16,8))\n",
    "    ax1 = fig.add_subplot(121)\n",
    "\n",
    "    sc_matches = np.unique(np.where(abs(W.dot(sc_bases.T))>threshold)[0])\n",
    "    ica_matches = np.unique(np.where(abs(W.dot(ica_bases.T))>threshold)[0])   \n",
    "    all_matches = np.unique(np.hstack([sc_matches,ica_matches]))\n",
    "    ica_sc_matches = np.intersect1d(sc_matches,ica_matches)\n",
    "   \n",
    "    total = [W.shape[0],sc_bases.shape[0],ica_bases.shape[0],ica_bases.shape[0]]\n",
    "    matches = [len(all_matches), len(sc_matches), len(ica_matches), len(ica_sc_matches)] \n",
    "    only = [0, len(sc_matches)-len(ica_sc_matches), len(ica_matches)- len(ica_sc_matches),0]\n",
    "    \n",
    "    ind = np.arange(4)    \n",
    "    width = 0.5       \n",
    "    \n",
    "    p1 = ax1.bar(ind, total, width, color='b',alpha=1., label='total')\n",
    "    p2 = ax1.bar(ind, matches, width, color='r',alpha=1., label='matches')\n",
    "    p3 = ax1.bar(ind, only, width, color='y',alpha=1., label='only')\n",
    "    \n",
    "    ax1.legend(loc='best', frameon=False,ncol=1)\n",
    "    \n",
    "    ax1.set_xticks(np.arange(4)+.25)\n",
    "    ax1.set_xticklabels(['none','sc','ica','sc+ica'])\n",
    "\n",
    "    ax2 = fig.add_subplot(122)\n",
    "    plot_angleHist([W_angles,sc_angles,ica_angles],['original','sc','ica'],ax=ax2)\n"
   ]
  },
  {
   "cell_type": "markdown",
   "metadata": {},
   "source": [
    "# Results"
   ]
  },
  {
   "cell_type": "markdown",
   "metadata": {},
   "source": [
    "## 1) Sparse coding with different lambdas on L4 data"
   ]
  },
  {
   "cell_type": "code",
   "execution_count": null,
   "metadata": {
    "collapsed": false,
    "scrolled": true
   },
   "outputs": [],
   "source": [
    "lambd = [.001,.01,.1,1.,10]\n",
    "angles = [dgcs.compute_angles(W)]\n",
    "sc_models = []\n",
    "\n",
    "for i in xrange(len(lambd)):\n",
    "    sc_models.append(sc.SparseCoding(n_mixtures=dim_input,\n",
    "                           n_sources=dim_sparse,\n",
    "                           lambd=lambd[i]))\n",
    "    sc_models[i].fit(X_zca)\n",
    "    angles.append(dgcs.compute_angles(sc_models[i].components_))"
   ]
  },
  {
   "cell_type": "code",
   "execution_count": null,
   "metadata": {
    "collapsed": false
   },
   "outputs": [],
   "source": [
    "plot_angleHist(angles,['original']+lambd)\n",
    "fig = plt.figure(figsize=(10,10))\n",
    "for i in xrange(len(lambd)):\n",
    "    ax = fig.add_subplot(3,2,i+1)\n",
    "    P,_,d,_ = dist_identity(sc_models[i].components_,W)\n",
    "    ax.set_title(r'$\\lambda=%.2f; ||ord(P)-I||_2$=%.2f'%(lambd[i],d))\n",
    "    im = plot_perm(sc_models[i].components_,W,ax=ax,binary=False)\n",
    "    ax.set_axis_off()"
   ]
  },
  {
   "cell_type": "markdown",
   "metadata": {},
   "source": [
    "## 2) Sparse coding ICA comparison"
   ]
  },
  {
   "cell_type": "code",
   "execution_count": null,
   "metadata": {
    "collapsed": false
   },
   "outputs": [],
   "source": [
    "sc_bases = sc_model.components_\n",
    "ica_bases = ica_model.components_\n",
    "plot_results(W,ica_bases,sc_bases)"
   ]
  },
  {
   "cell_type": "code",
   "execution_count": null,
   "metadata": {
    "collapsed": true
   },
   "outputs": [],
   "source": [
    "sc_bases = sc_model.components_\n",
    "ica_bases = ica_model.components_\n",
    "plot_results(W,ica_bases,sc_bases)"
   ]
  },
  {
   "cell_type": "code",
   "execution_count": null,
   "metadata": {
    "collapsed": false
   },
   "outputs": [],
   "source": [
    "sc_bases = sc_model.components_\n",
    "ica_bases = ica_model.components_\n",
    "plot_results2(W,ica_bases,sc_bases)"
   ]
  },
  {
   "cell_type": "code",
   "execution_count": null,
   "metadata": {
    "collapsed": false
   },
   "outputs": [],
   "source": [
    "Z = W.dot(ica_bases.T)\n",
    "h = plt.hist(Z.flatten(),100)"
   ]
  },
  {
   "cell_type": "code",
   "execution_count": null,
   "metadata": {
    "collapsed": false
   },
   "outputs": [],
   "source": [
    "Z = W.dot(sc_bases.T)\n",
    "h = plt.hist(Z.flatten(),100)"
   ]
  },
  {
   "cell_type": "code",
   "execution_count": null,
   "metadata": {
    "collapsed": false
   },
   "outputs": [],
   "source": [
    "Z = ica_bases.dot(sc_bases.T)\n",
    "h = plt.hist(Z.flatten(),100)"
   ]
  }
 ],
 "metadata": {
  "kernelspec": {
   "display_name": "Python 2",
   "language": "python",
   "name": "python2"
  },
  "language_info": {
   "codemirror_mode": {
    "name": "ipython",
    "version": 2
   },
   "file_extension": ".py",
   "mimetype": "text/x-python",
   "name": "python",
   "nbconvert_exporter": "python",
   "pygments_lexer": "ipython2",
   "version": "2.7.11"
  }
 },
 "nbformat": 4,
 "nbformat_minor": 0
}
