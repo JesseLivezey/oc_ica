{
 "cells": [
  {
   "cell_type": "code",
   "execution_count": 1,
   "metadata": {
    "collapsed": false
   },
   "outputs": [
    {
     "name": "stderr",
     "output_type": "stream",
     "text": [
      "Using gpu device 0: Tesla K40c (CNMeM is enabled with initial size: 20.0% of memory, cuDNN 4007)\n"
     ]
    },
    {
     "data": {
      "text/plain": [
       "<module 'analysis' from 'analysis.pyc'>"
      ]
     },
     "execution_count": 1,
     "metadata": {},
     "output_type": "execute_result"
    }
   ],
   "source": [
    "import matplotlib.pyplot as plt\n",
    "import numpy as np\n",
    "import cPickle\n",
    "\n",
    "import analysis\n",
    "reload(analysis)"
   ]
  },
  {
   "cell_type": "code",
   "execution_count": 2,
   "metadata": {
    "collapsed": true
   },
   "outputs": [],
   "source": [
    "fname = '/home/jesse/Downloads/comparison_128_2.pkl'\n",
    "\n",
    "W_priors = ['L2', 'L4', 'RANDOM']\n",
    "ica_models = [2, 4, 6, 8, 'RANDOM', 'COULOMB', 'COHERENCE'] + ['SC']\n",
    "lambdas = np.logspace(-2, 2, num=9)\n",
    "colors = ['black', 'black', 'black', 'black', 'red', 'green', 'blue', 'purple']\n",
    "fmts = ['-', '--', ':', '-.', '-', '-', '-', '-']"
   ]
  },
  {
   "cell_type": "code",
   "execution_count": 3,
   "metadata": {
    "collapsed": false
   },
   "outputs": [],
   "source": [
    "with open(fname, 'r') as f:\n",
    "    data = cPickle.load(f)"
   ]
  },
  {
   "cell_type": "code",
   "execution_count": 4,
   "metadata": {
    "collapsed": false
   },
   "outputs": [],
   "source": [
    "A_dict, W_dict, W_fits, min_ks, results = data\n",
    "n_mixtures, n_sources = A_dict[A_dict.keys()[0]][0].shape\n",
    "n_iter = W_fits.shape[3]\n",
    "results = np.nan * np.ones((len(W_priors), len(ica_models), lambdas.size, n_iter, 2))"
   ]
  },
  {
   "cell_type": "code",
   "execution_count": 5,
   "metadata": {
    "collapsed": false
   },
   "outputs": [],
   "source": [
    "for ii, p in enumerate(W_priors):\n",
    "    for jj, m in enumerate(ica_models):\n",
    "        A = A_dict[p][jj]\n",
    "        for kk, l in enumerate(lambdas):\n",
    "            for ll in range(n_iter):\n",
    "                W = W_fits[ii, jj, kk, ll]\n",
    "                results[ii, jj, kk, ll] = analysis.recovery_statistics_AW(A, W)"
   ]
  },
  {
   "cell_type": "code",
   "execution_count": 13,
   "metadata": {
    "collapsed": false
   },
   "outputs": [],
   "source": [
    "for ii, p in enumerate(W_priors):\n",
    "    f, (ad, ae) = plt.subplots(1, 2, figsize=(16, 8))\n",
    "    for jj, m in enumerate(ica_models):\n",
    "        dist = results[ii, jj, :, :, 0].mean(axis=1)\n",
    "        delta = results[ii, jj, :, :, 1].mean(axis=1)\n",
    "        ad.semilogx(lambdas, dist, fmts[jj], label=str(m), c=colors[jj])\n",
    "        ad.semilogx(lambdas, dist, 'o', c=colors[jj])\n",
    "        ae.semilogx(lambdas, delta, fmts[jj], label=str(m), c=colors[jj])\n",
    "        ae.semilogx(lambdas, delta, 'o', c=colors[jj])\n",
    "    ad.set_title(p)\n",
    "    ad.set_xlabel('Lambda')\n",
    "    ad.set_ylabel('Hellinger Distance')\n",
    "    ae.set_title(p)\n",
    "    ae.set_xlabel('Lambda')\n",
    "    ae.set_ylabel('Permutation Delta')\n",
    "    ae.legend(loc='best')\n",
    "    plt.savefig(p+'.pdf')\n",
    "plt.show()\n",
    "plt.close()"
   ]
  },
  {
   "cell_type": "code",
   "execution_count": null,
   "metadata": {
    "collapsed": true
   },
   "outputs": [],
   "source": []
  }
 ],
 "metadata": {
  "kernelspec": {
   "display_name": "Python 2",
   "language": "python",
   "name": "python2"
  },
  "language_info": {
   "codemirror_mode": {
    "name": "ipython",
    "version": 2
   },
   "file_extension": ".py",
   "mimetype": "text/x-python",
   "name": "python",
   "nbconvert_exporter": "python",
   "pygments_lexer": "ipython2",
   "version": "2.7.12"
  }
 },
 "nbformat": 4,
 "nbformat_minor": 0
}
