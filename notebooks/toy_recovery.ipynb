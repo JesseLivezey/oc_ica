{
 "cells": [
  {
   "cell_type": "code",
   "execution_count": 1,
   "metadata": {},
   "outputs": [
    {
     "name": "stderr",
     "output_type": "stream",
     "text": [
      "/home/jesse/anaconda3/envs/python27/lib/python2.7/site-packages/h5py/__init__.py:36: FutureWarning: Conversion of the second argument of issubdtype from `float` to `np.floating` is deprecated. In future, it will be treated as `np.float64 == np.dtype(float).type`.\n",
      "  from ._conv import register_converters as _register_converters\n"
     ]
    },
    {
     "data": {
      "text/plain": [
       "<module 'oc_ica.analysis' from '/home/jesse/Development/oc_ica/oc_ica/analysis.pyc'>"
      ]
     },
     "execution_count": 1,
     "metadata": {},
     "output_type": "execute_result"
    }
   ],
   "source": [
    "from __future__ import division\n",
    "import matplotlib\n",
    "matplotlib.use('Agg')\n",
    "import matplotlib.pyplot as plt\n",
    "import matplotlib.patheffects as pe\n",
    "import numpy as np\n",
    "import cPickle, h5py, os, glob\n",
    "\n",
    "from oc_ica import analysis, styles, plotting\n",
    "reload(analysis)"
   ]
  },
  {
   "cell_type": "markdown",
   "metadata": {},
   "source": [
    "# HDF5 Storage"
   ]
  },
  {
   "cell_type": "code",
   "execution_count": 2,
   "metadata": {},
   "outputs": [],
   "source": [
    "base_folder = '/home/jesse/Development/results/oc_ica/'"
   ]
  },
  {
   "cell_type": "code",
   "execution_count": 3,
   "metadata": {},
   "outputs": [],
   "source": [
    "n_mixtures = 32\n",
    "OCs = ['1.0', '1.5', '2.0', '2.25', '2.5', '2.75', '3.0', '3.5']\n",
    "OC_k = 12\n",
    "priors = ['COHERENCE_SOFT', 'COHERENCE', 'INIT']\n",
    "keep_max = False\n",
    "\n",
    "ks = [2, 4, 6, 8, 10, 12, 14, 16]\n",
    "k_OC = '2.0'"
   ]
  },
  {
   "cell_type": "code",
   "execution_count": 14,
   "metadata": {
    "scrolled": true
   },
   "outputs": [],
   "source": [
    "reload(analysis)\n",
    "\n",
    "for OC in OCs:\n",
    "    analysis.comparison_analysis_postprocess(base_folder, n_mixtures, OC, OC_k, priors, keep_max, overwrite=True)\n",
    "    \n",
    "for k in ks:\n",
    "    analysis.comparison_analysis_postprocess(base_folder, n_mixtures, k_OC, k, priors, keep_max, overwrite=True)"
   ]
  },
  {
   "cell_type": "code",
   "execution_count": 15,
   "metadata": {},
   "outputs": [],
   "source": [
    "OC_k = 6\n",
    "k_OC = '3.0'"
   ]
  },
  {
   "cell_type": "code",
   "execution_count": 16,
   "metadata": {},
   "outputs": [],
   "source": [
    "reload(analysis)\n",
    "\n",
    "for OC in OCs:\n",
    "    analysis.comparison_analysis_postprocess(base_folder, n_mixtures, OC, OC_k, priors, keep_max, overwrite=True)\n",
    "    \n",
    "for k in ks:\n",
    "    analysis.comparison_analysis_postprocess(base_folder, n_mixtures, k_OC, k, priors, keep_max, overwrite=True)"
   ]
  },
  {
   "cell_type": "markdown",
   "metadata": {
    "collapsed": true
   },
   "source": [
    "# Summary Plots"
   ]
  },
  {
   "cell_type": "code",
   "execution_count": 4,
   "metadata": {
    "scrolled": true
   },
   "outputs": [],
   "source": [
    "reload(analysis)\n",
    "reload(plotting)\n",
    "k_OC = '2.0'\n",
    "OC_k = 12\n",
    "\n",
    "results, null_results, lambdas = analysis.comparison_analysis_postprocess(base_folder,\n",
    "                                                                          n_mixtures, k_OC, OC_k, priors, keep_max)\n",
    "\n",
    "\n",
    "OCs = ['1.0', '1.5', '2.0', '2.25', '2.5', '2.75', '3.0', '3.5', '4.0']\n",
    "keep_OCs = ['1.0', '1.5', '2.0', '2.25', '2.5', '2.75', '3.0', '3.5']\n",
    "\n",
    "#OCs = ['1.0', '1.5']\n",
    "#keep_OCs = ['1.0', '1.5']\n",
    "\n",
    "models = ['2', '4', 'COULOMB', 'COULOMB_F', 'RANDOM', 'RANDOM_F', 'SC', 'SM']\n",
    "#keep_models = ['2', '4', 'COULOMB', 'COULOMB_F', 'RANDOM', 'RANDOM_F', 'SM', 'SC']\n",
    "keep_models = ['2', '4', 'COULOMB_F', 'SM', 'SC']\n",
    "#keep_models = models\n",
    "\n",
    "ks = [2, 4, 6, 8, 10, 12, 14, 16]\n",
    "#ks = [2, 4]\n",
    "\n",
    "n_prior = 0\n",
    "f = plt.figure(figsize=(5, 4))\n",
    "\n",
    "l_edge = .07125\n",
    "r_edge = .01\n",
    "top_edge = .05\n",
    "bot_edge = .1\n",
    "width = .25\n",
    "h_gap = .1\n",
    "width = (1. - l_edge - r_edge - 2*h_gap) / 3\n",
    "height = .35\n",
    "mid_gap = 1 - top_edge - bot_edge - 2 * height\n",
    "\n",
    "ap = f.add_axes((l_edge, 1 - top_edge - height, width, height))\n",
    "ax1 = f.add_axes((l_edge + width + h_gap, 1 - top_edge - height, width, height))\n",
    "ax2 = f.add_axes((l_edge + 2 * width + 2 * h_gap, 1 - top_edge - height, width, height))\n",
    "ax3 = f.add_axes((l_edge + width + h_gap, bot_edge, width, height))\n",
    "ax4 = f.add_axes((l_edge + 2 * width + 2 * h_gap, bot_edge, width, height))\n",
    "\n",
    "plotting.recovery_vs_lambda(models, keep_models, results, null_results, lambdas,\n",
    "                            priors, n_prior, ap, add_ylabel=True)\n",
    "\n",
    "plotting.recovery_vs_oc_or_k(models, keep_models, base_folder, n_mixtures,\n",
    "                              True, ax1, priors, n_prior,\n",
    "                              OCs=OCs, keep_OCs=keep_OCs, OC_k=OC_k, add_ylabel=True, add_xlabel=True)\n",
    "\n",
    "plotting.recovery_vs_oc_or_k(models, keep_models, base_folder, n_mixtures,\n",
    "                              False, ax2, priors, n_prior,\n",
    "                              ks=ks, k_OC=k_OC, add_ylabel=True, add_xlabel=True)\n",
    "\n",
    "OC_k = 6\n",
    "k_OC = '3.0'\n",
    "\n",
    "plotting.recovery_vs_oc_or_k(models, keep_models, base_folder, n_mixtures,\n",
    "                              True, ax3, priors, n_prior,\n",
    "                              OCs=OCs, keep_OCs=keep_OCs, OC_k=OC_k,\n",
    "                              add_ylabel=True, add_xlabel=True,\n",
    "                              legend=True)\n",
    "\n",
    "plotting.recovery_vs_oc_or_k(models, keep_models, base_folder, n_mixtures,\n",
    "                              False, ax4, priors, n_prior,\n",
    "                              ks=ks, k_OC=k_OC,\n",
    "                              add_xlabel=True, add_ylabel=True)\n",
    "y1 = .965\n",
    "y2 = .47\n",
    "x1 = .01\n",
    "x2 = .33\n",
    "x3 = .67\n",
    "f.text(x1, y1, 'A', fontsize=styles.letter_fontsize)\n",
    "f.text(x2, y1, 'B', fontsize=styles.letter_fontsize)\n",
    "f.text(x3, y1, 'C', fontsize=styles.letter_fontsize)\n",
    "f.text(x2, y2, 'D', fontsize=styles.letter_fontsize)\n",
    "f.text(x3, y2, 'E', fontsize=styles.letter_fontsize)\n",
    "\n",
    "plt.savefig('/home/jesse/Downloads/figure4.pdf')\n",
    "#plt.savefig('/home/jesse/Downloads/figure3.png', dpi=100)\n",
    "plt.close()\n",
    "#plt.show()"
   ]
  },
  {
   "cell_type": "code",
   "execution_count": null,
   "metadata": {},
   "outputs": [],
   "source": []
  }
 ],
 "metadata": {
  "kernelspec": {
   "display_name": "Python 2",
   "language": "python",
   "name": "python2"
  },
  "language_info": {
   "codemirror_mode": {
    "name": "ipython",
    "version": 2
   },
   "file_extension": ".py",
   "mimetype": "text/x-python",
   "name": "python",
   "nbconvert_exporter": "python",
   "pygments_lexer": "ipython2",
   "version": "2.7.14"
  }
 },
 "nbformat": 4,
 "nbformat_minor": 1
}
