{
 "cells": [
  {
   "cell_type": "code",
   "execution_count": 1,
   "metadata": {},
   "outputs": [
    {
     "name": "stderr",
     "output_type": "stream",
     "text": [
      "/home/jesse/anaconda3/envs/python27/lib/python2.7/site-packages/h5py/__init__.py:36: FutureWarning: Conversion of the second argument of issubdtype from `float` to `np.floating` is deprecated. In future, it will be treated as `np.float64 == np.dtype(float).type`.\n",
      "  from ._conv import register_converters as _register_converters\n"
     ]
    },
    {
     "data": {
      "text/plain": [
       "<module 'oc_ica.analysis' from '/home/jesse/Development/oc_ica/oc_ica/analysis.pyc'>"
      ]
     },
     "execution_count": 1,
     "metadata": {},
     "output_type": "execute_result"
    }
   ],
   "source": [
    "from __future__ import division\n",
    "import matplotlib\n",
    "matplotlib.use('Agg')\n",
    "import matplotlib.pyplot as plt\n",
    "import matplotlib.patheffects as pe\n",
    "import numpy as np\n",
    "import cPickle, h5py, os, glob\n",
    "\n",
    "from oc_ica import analysis, styles, plotting\n",
    "reload(analysis)"
   ]
  },
  {
   "cell_type": "markdown",
   "metadata": {},
   "source": [
    "# HDF5 Storage"
   ]
  },
  {
   "cell_type": "code",
   "execution_count": 2,
   "metadata": {},
   "outputs": [],
   "source": [
    "base_folder = '/home/jesse/Development/results/oc_ica/'"
   ]
  },
  {
   "cell_type": "code",
   "execution_count": 3,
   "metadata": {},
   "outputs": [],
   "source": [
    "n_mixtures = 32\n",
    "OCs = ['1.0', '1.5', '2.0', '2.25', '2.5', '2.75', '3.0', '3.5']\n",
    "OC_k = 6\n",
    "priors = ['COHERENCE_SOFT', 'COHERENCE', 'INIT']\n",
    "keep_max = False\n",
    "\n",
    "ks = [2, 4, 6, 8, 10, 12, 14, 16]\n",
    "k_OC = '3.0'"
   ]
  },
  {
   "cell_type": "code",
   "execution_count": 3,
   "metadata": {
    "scrolled": true
   },
   "outputs": [
    {
     "name": "stdout",
     "output_type": "stream",
     "text": [
      "kkkkkkkkkkkkkk 2\n",
      "kkkkkkkkkkkkkk 2\n",
      "kkkkkkkkkkkkkk 4\n",
      "kkkkkkkkkkkkkk 4\n",
      "kkkkkkkkkkkkkk 6\n",
      "kkkkkkkkkkkkkk 6\n",
      "kkkkkkkkkkkkkk 8\n",
      "kkkkkkkkkkkkkk 8\n",
      "kkkkkkkkkkkkkk 10\n",
      "kkkkkkkkkkkkkk 10\n",
      "kkkkkkkkkkkkkk 12\n",
      "kkkkkkkkkkkkkk 12\n",
      "kkkkkkkkkkkkkk 14\n",
      "kkkkkkkkkkkkkk 14\n",
      "kkkkkkkkkkkkkk 16\n",
      "kkkkkkkkkkkkkk 16\n"
     ]
    }
   ],
   "source": [
    "reload(analysis)\n",
    "\n",
    "for OC in OCs:\n",
    "    analysis.comparison_analysis_postprocess(base_folder, n_mixtures, OC, OC_k, priors, keep_max, overwrite=True)\n",
    "    \n",
    "for k in ks:\n",
    "    analysis.comparison_analysis_postprocess(base_folder, n_mixtures, k_OC, k, priors, keep_max, overwrite=True)"
   ]
  },
  {
   "cell_type": "markdown",
   "metadata": {
    "collapsed": true
   },
   "source": [
    "# Summary Plots"
   ]
  },
  {
   "cell_type": "code",
   "execution_count": 4,
   "metadata": {
    "scrolled": false
   },
   "outputs": [
    {
     "name": "stdout",
     "output_type": "stream",
     "text": [
      "(0.26, 0.35, 0.15000000000000002)\n"
     ]
    }
   ],
   "source": [
    "reload(analysis)\n",
    "reload(plotting)\n",
    "k_OC = '2.0'\n",
    "OC_k = 12\n",
    "\n",
    "results, null_results, lambdas = analysis.comparison_analysis_postprocess(base_folder,\n",
    "                                                                          n_mixtures, k_OC, OC_k, priors, keep_max)\n",
    "\n",
    "\n",
    "OCs = ['1.0', '1.5', '2.0', '2.25', '2.5', '2.75', '3.0', '3.5', '4.0']\n",
    "keep_OCs = ['1.0', '1.5', '2.0', '2.25', '2.5', '2.75', '3.0', '3.5']\n",
    "\n",
    "#OCs = ['1.0', '1.5']\n",
    "#keep_OCs = ['1.0', '1.5']\n",
    "\n",
    "models = ['2', '4', 'COULOMB', 'COULOMB_F', 'RANDOM', 'RANDOM_F', 'SC', 'SM']\n",
    "#keep_models = ['2', '4', 'COULOMB', 'COULOMB_F', 'RANDOM', 'RANDOM_F', 'SM', 'SC']\n",
    "keep_models = ['2', '4', 'COULOMB_F', 'SM', 'SC']\n",
    "keep_models = models\n",
    "\n",
    "ks = [2, 4, 6, 8, 10, 12, 14, 16]\n",
    "#ks = [2, 4]\n",
    "\n",
    "n_prior = 0\n",
    "f = plt.figure(figsize=(5, 4))\n",
    "\n",
    "l_edge = .07125\n",
    "r_edge = .01\n",
    "top_edge = .05\n",
    "bot_edge = .1\n",
    "width = .26\n",
    "h_gap = (1 - l_edge -r_edge - 3 * width ) / 2\n",
    "height = .35\n",
    "mid_gap = 1 - top_edge - bot_edge - 2 * height\n",
    "print(width, height, mid_gap)\n",
    "\n",
    "ap = f.add_axes((l_edge, 1 - top_edge - height, width, height))\n",
    "ax1 = f.add_axes((l_edge + width + h_gap, 1 - top_edge - height, width, height))\n",
    "ax2 = f.add_axes((l_edge + 2 * width + 2 * h_gap, 1 - top_edge - height, width, height))\n",
    "ax3 = f.add_axes((l_edge + width + h_gap, bot_edge, width, height))\n",
    "ax4 = f.add_axes((l_edge + 2 * width + 2 * h_gap, bot_edge, width, height))\n",
    "\n",
    "plotting.recovery_vs_lambda(models, keep_models, results, null_results, lambdas,\n",
    "                            priors, n_prior, ap, add_ylabel=True)\n",
    "\n",
    "plotting.recovery_vs_oc_or_k(models, keep_models, base_folder, n_mixtures,\n",
    "                              True, ax1, priors, n_prior,\n",
    "                              OCs=OCs, keep_OCs=keep_OCs, OC_k=OC_k, add_ylabel=True, add_xlabel=True)\n",
    "\n",
    "plotting.recovery_vs_oc_or_k(models, keep_models, base_folder, n_mixtures,\n",
    "                              False, ax2, priors, n_prior,\n",
    "                              ks=ks, k_OC=k_OC, add_ylabel=True, add_xlabel=True)\n",
    "\n",
    "OC_k = 6\n",
    "k_OC = '3.0'\n",
    "\n",
    "plotting.recovery_vs_oc_or_k(models, keep_models, base_folder, n_mixtures,\n",
    "                              True, ax3, priors, n_prior,\n",
    "                              OCs=OCs, keep_OCs=keep_OCs, OC_k=OC_k,\n",
    "                              add_ylabel=True, add_xlabel=True,\n",
    "                              legend=True)\n",
    "\n",
    "plotting.recovery_vs_oc_or_k(models, keep_models, base_folder, n_mixtures,\n",
    "                              False, ax4, priors, n_prior,\n",
    "                              ks=ks, k_OC=k_OC,\n",
    "                              add_xlabel=True, add_ylabel=True)\n",
    "y1 = .965\n",
    "y2 = .47\n",
    "x1 = .01\n",
    "x2 = .33\n",
    "x3 = .67\n",
    "f.text(x1, y1, 'A', fontsize=styles.letter_fontsize)\n",
    "f.text(x2, y1, 'B', fontsize=styles.letter_fontsize)\n",
    "f.text(x3, y1, 'C', fontsize=styles.letter_fontsize)\n",
    "f.text(x2, y2, 'D', fontsize=styles.letter_fontsize)\n",
    "f.text(x3, y2, 'E', fontsize=styles.letter_fontsize)\n",
    "\n",
    "plt.savefig('/home/jesse/Downloads/figure3_all.pdf')\n",
    "#plt.savefig('/home/jesse/Downloads/figure3.png', dpi=100)\n",
    "plt.close()\n",
    "#plt.show()"
   ]
  },
  {
   "cell_type": "markdown",
   "metadata": {},
   "source": [
    "# Data Free"
   ]
  },
  {
   "cell_type": "code",
   "execution_count": 1,
   "metadata": {},
   "outputs": [
    {
     "name": "stderr",
     "output_type": "stream",
     "text": [
      "/home/jesse/anaconda3/envs/python27/lib/python2.7/site-packages/h5py/__init__.py:36: FutureWarning: Conversion of the second argument of issubdtype from `float` to `np.floating` is deprecated. In future, it will be treated as `np.float64 == np.dtype(float).type`.\n",
      "  from ._conv import register_converters as _register_converters\n"
     ]
    }
   ],
   "source": [
    "import h5py\n",
    "import numpy as np\n",
    "import matplotlib.pyplot as plt\n",
    "import matplotlib.patheffects as pe\n",
    "\n",
    "from oc_ica.analysis import compute_angles\n",
    "from oc_ica import styles"
   ]
  },
  {
   "cell_type": "code",
   "execution_count": 2,
   "metadata": {},
   "outputs": [],
   "source": [
    "f_name = ('/home/jesse/Development/results/oc_ica/data_free_sources-32/' +\n",
    "        'data_free-32_sources-96_ocs-1.0_1.125_1.25_1.5_1.75_2.0_2.5_3.0' +\n",
    "        '_models-2_4_RANDOM_RANDOM_F_COULOMB_COULOMB_F.h5')"
   ]
  },
  {
   "cell_type": "code",
   "execution_count": 3,
   "metadata": {},
   "outputs": [
    {
     "name": "stdout",
     "output_type": "stream",
     "text": [
      "[u'W_fits', u'W_orig', u'models', u'ocs']\n"
     ]
    }
   ],
   "source": [
    "with h5py.File(f_name) as f:\n",
    "    print f.keys()\n",
    "    W_fits = f['W_fits'].value\n",
    "    W_orig = f['W_orig'].value\n",
    "    models = f['models'].value\n",
    "    ocs = f['ocs'].value\n",
    "_, _, n_iter, _, n_mixtures = W_fits.shape"
   ]
  },
  {
   "cell_type": "code",
   "execution_count": 4,
   "metadata": {},
   "outputs": [],
   "source": [
    "min_coherence = np.zeros((len(models), len(ocs), n_iter))"
   ]
  },
  {
   "cell_type": "code",
   "execution_count": 5,
   "metadata": {},
   "outputs": [],
   "source": [
    "for ii, model in enumerate(models):\n",
    "    for jj, oc in enumerate(ocs):\n",
    "        for kk in range(n_iter):\n",
    "            n_sources = int(float(oc) * n_mixtures)\n",
    "            min_coherence[ii, jj, kk] = compute_angles(W_fits[ii, jj, kk, :n_sources]).min()"
   ]
  },
  {
   "cell_type": "code",
   "execution_count": 12,
   "metadata": {},
   "outputs": [
    {
     "data": {
      "image/png": "[encoded data removed]",
      "text/plain": [
       "<Figure size 360x216 with 1 Axes>"
      ]
     },
     "metadata": {},
     "output_type": "display_data"
    }
   ],
   "source": [
    "f, ax = plt.subplots(1, figsize=(5, 3))\n",
    "x = [float(y) for y in ocs]\n",
    "for ii, model in enumerate(models):\n",
    "#    if model in ['2', '4', 'COULOMB']:\n",
    "        ax.plot(x, np.median(min_coherence[ii, :], axis=-1), styles.line_styles[model],\n",
    "                label=styles.labels[model], c = styles.colors[model], lw=styles.lw,\n",
    "               path_effects=[pe.Stroke(linewidth=styles.lw+1, foreground='k'), pe.Normal()])\n",
    "        ax.plot(x, np.median(min_coherence[ii, :], axis=-1), '.',\n",
    "                c = styles.colors[model])\n",
    "ax.set_xlabel('Overcompleteness', fontsize=styles.label_fontsize)\n",
    "ax.set_ylabel('Minimum pairwise angle', fontsize=styles.label_fontsize)\n",
    "ax.set_yticks([60, 70, 80, 90])\n",
    "ax.set_xticks([1, 1.5, 2, 2.5, 3])\n",
    "ax.tick_params(labelsize=styles.ticklabel_fontsize)\n",
    "ax.legend(frameon=False, fontsize=styles.legend_fontsize)\n",
    "f.tight_layout()\n",
    "#ax.set_yscale('log')\n",
    "plt.savefig('/home/jesse/Downloads/appendix1.pdf')\n",
    "plt.show()"
   ]
  }
 ],
 "metadata": {
  "kernelspec": {
   "display_name": "Python 2",
   "language": "python",
   "name": "python2"
  },
  "language_info": {
   "codemirror_mode": {
    "name": "ipython",
    "version": 2
   },
   "file_extension": ".py",
   "mimetype": "text/x-python",
   "name": "python",
   "nbconvert_exporter": "python",
   "pygments_lexer": "ipython2",
   "version": "2.7.14"
  }
 },
 "nbformat": 4,
 "nbformat_minor": 1
}
