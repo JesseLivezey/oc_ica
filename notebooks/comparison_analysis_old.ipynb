{
 "cells": [
  {
   "cell_type": "code",
   "execution_count": 1,
   "metadata": {
    "collapsed": false
   },
   "outputs": [
    {
     "name": "stderr",
     "output_type": "stream",
     "text": [
      "Using gpu device 0: Tesla K40c (CNMeM is enabled with initial size: 20.0% of memory, cuDNN 4007)\n"
     ]
    },
    {
     "data": {
      "text/plain": [
       "<module 'oc_ica.analysis' from '/home/jesse/Development/oc_ica/oc_ica/analysis.pyc'>"
      ]
     },
     "execution_count": 1,
     "metadata": {},
     "output_type": "execute_result"
    }
   ],
   "source": [
    "from __future__ import division\n",
    "import matplotlib.pyplot as plt\n",
    "import numpy as np\n",
    "import cPickle, h5py, os, glob\n",
    "\n",
    "from oc_ica import analysis\n",
    "reload(analysis)"
   ]
  },
  {
   "cell_type": "markdown",
   "metadata": {},
   "source": [
    "# HDF5 Storage"
   ]
  },
  {
   "cell_type": "code",
   "execution_count": 5,
   "metadata": {
    "collapsed": true
   },
   "outputs": [],
   "source": [
    "base_folder = '/home/jesse/Development/results/oc_ica'\n",
    "n_iter = 10"
   ]
  },
  {
   "cell_type": "markdown",
   "metadata": {},
   "source": [
    "## mixtures-128_sources-256-k_2"
   ]
  },
  {
   "cell_type": "code",
   "execution_count": 6,
   "metadata": {
    "collapsed": false
   },
   "outputs": [
    {
     "name": "stdout",
     "output_type": "stream",
     "text": [
      "['2', '3', '4', 'COULOMB', 'COULOMB_F', 'RANDOM', 'RANDOM_F', 'SC']\n"
     ]
    }
   ],
   "source": [
    "fit_folder = 'mixtures-128_sources-256-k_2'\n",
    "a_file = 'a_array-128_OC-2.0_priors-L2_L4_RANDOM_COHERENCE.h5'\n",
    "fit_files = ['comparison_mixtures-128_OC-2.0_priors-L2_L4_RANDOM_COHERENCE_models-2.h5',\n",
    "             'comparison_mixtures-128_sources-256_k-2_priors-L2_L4_RANDOM_COHERENCE_models-3.h5',\n",
    "             'comparison_mixtures-128_OC-2.0_priors-L2_L4_RANDOM_COHERENCE_models-4.h5',\n",
    "             'comparison_mixtures-128_OC-2.0_priors-L2_L4_RANDOM_COHERENCE_models-COHERENCE.h5'\n",
    "             'comparison_mixtures-128_OC-2.0_priors-L2_L4_RANDOM_COHERENCE_models-COULOMB.h5',\n",
    "             'comparison_mixtures-128_OC-2.0_priors-L2_L4_RANDOM_COHERENCE_models-COULOMB_F.h5',\n",
    "             'comparison_mixtures-128_OC-2.0_priors-L2_L4_RANDOM_COHERENCE_models-RANDOM.h5',\n",
    "             'comparison_mixtures-128_OC-2.0_priors-L2_L4_RANDOM_COHERENCE_models-RANDOM_F.h5',]\n",
    "sc_fits = ['comparison_first-8-lambdas_mixtures-128_OC-2.0_priors-L2_L4_RANDOM_COHERENCE_models-SC.h5',\n",
    "           'comparison_last-9-lambdas_mixtures-128_OC-2.0_priors-L2_L4_RANDOM_COHERENCE_models-SC.h5']\n",
    "\n",
    "models = [f.split('.')[-2].split('-')[-1] for f in fit_files] + [sc_fits[0].split('.')[-2].split('-')[-1]]\n",
    "print models"
   ]
  },
  {
   "cell_type": "code",
   "execution_count": 12,
   "metadata": {
    "collapsed": false
   },
   "outputs": [
    {
     "name": "stdout",
     "output_type": "stream",
     "text": [
      "32 64 2.0 2\n",
      "['2', '3', '4', 'COHERENCE', 'COULOMB', 'COULOMB_F', 'RANDOM', 'RANDOM_F', 'SC']\n"
     ]
    }
   ],
   "source": [
    "n_mixtures = 32\n",
    "OC = 2.\n",
    "k = 2\n",
    "n_sources = int(n_mixtures * OC)\n",
    "print n_mixtures, n_sources, OC, k\n",
    "fit_folder = 'mixtures-{}_sources-{}_k-{}'.format(n_mixtures, n_sources, k)\n",
    "a_file = 'a_array-{}_OC-{}_priors-L2_L4_RANDOM_COHERENCE.h5'.format(n_mixtures, OC)\n",
    "fit_files = sorted(glob.glob(os.path.join(base_folder, fit_folder, '*.h5')))\n",
    "sc_fits = None\n",
    "models = [f.split('.')[-2].split('-')[-1] for f in fit_files]\n",
    "print models"
   ]
  },
  {
   "cell_type": "markdown",
   "metadata": {},
   "source": [
    "## Continue"
   ]
  },
  {
   "cell_type": "code",
   "execution_count": 13,
   "metadata": {
    "collapsed": false
   },
   "outputs": [],
   "source": [
    "with h5py.File(os.path.join(base_folder, a_file), 'r') as f:\n",
    "    A_array = f['A_array'].value\n",
    "    A_priors = f['A_priors'].value"
   ]
  },
  {
   "cell_type": "code",
   "execution_count": 14,
   "metadata": {
    "collapsed": false
   },
   "outputs": [],
   "source": [
    "colors = ['black', 'black', 'black', 'blue', 'red', 'red', 'green', 'green', 'purple']\n",
    "fmts = ['-', ':', '-.', '-', '-', '--', '-', '--', '-']\n",
    "with h5py.File(os.path.join(base_folder, fit_folder, fit_files[0]), 'r') as f:\n",
    "    lambdas = f['lambdas'].value\n",
    "n_mixtures, n_sources = A_array.shape[2:]\n",
    "n_iter = A_array.shape[1]"
   ]
  },
  {
   "cell_type": "code",
   "execution_count": 15,
   "metadata": {
    "collapsed": false
   },
   "outputs": [],
   "source": [
    "W_fits = np.full((len(A_priors), len(models), lambdas.size, n_iter, n_sources, n_mixtures),\n",
    "                 np.nan, dtype='float32')\n",
    "results = np.full((len(A_priors), len(models), lambdas.size, n_iter, 2),\n",
    "                  np.nan, dtype='float32')\n",
    "null_results = np.full((len(A_priors), len(models), lambdas.size, (n_iter**2-n_iter)//2, 2),\n",
    "                  np.nan, dtype='float32')"
   ]
  },
  {
   "cell_type": "code",
   "execution_count": 16,
   "metadata": {
    "collapsed": false
   },
   "outputs": [],
   "source": [
    "for ii, f_name in enumerate(fit_files):\n",
    "    with h5py.File(os.path.join(base_folder, fit_folder, f_name), 'r') as f:\n",
    "        W_fits[:, ii] = np.squeeze(f['W_fits'])[:, :, :n_iter]\n",
    "\n",
    "if sc_fits is not None:\n",
    "    loc = 0\n",
    "    for ii, f_name in enumerate(sc_fits):\n",
    "        with h5py.File(os.path.join(base_folder, fit_folder, f_name), 'r') as f:\n",
    "            n_lambdas = f['W_fits'].shape[2]\n",
    "            W_fits[:, -1, loc:loc+n_lambdas, :10] = np.squeeze(f['W_fits'])[:, :, :n_iter]\n",
    "            loc += n_lambdas"
   ]
  },
  {
   "cell_type": "code",
   "execution_count": 17,
   "metadata": {
    "collapsed": false,
    "scrolled": true
   },
   "outputs": [],
   "source": [
    "reload(analysis)\n",
    "for ii, p in enumerate(A_priors):\n",
    "    for jj, m in enumerate(models):\n",
    "        for kk, l in enumerate(lambdas):\n",
    "            for ll in range(n_iter):\n",
    "                try:\n",
    "                    A = A_array[ii, ll]\n",
    "                    W = W_fits[ii, jj, kk, ll]\n",
    "                    assert (not np.isnan(A.sum())) and (not np.isnan(W.sum()))\n",
    "                    results[ii, jj, kk, ll] = analysis.recovery_statistics_AW(A, W)\n",
    "                    #results[ii, jj, kk, ll] = [hd, pd, mod]\n",
    "                    #max_angles[ii, jj, kk, ll] = ma\n",
    "                    #other_angles[ii, jj, kk, ll] = oa\n",
    "                except (ValueError, AssertionError):\n",
    "                    pass"
   ]
  },
  {
   "cell_type": "code",
   "execution_count": 18,
   "metadata": {
    "collapsed": false
   },
   "outputs": [],
   "source": [
    "for ii, p in enumerate(A_priors):\n",
    "    for jj, m in enumerate(models):\n",
    "        for kk, l in enumerate(lambdas):\n",
    "            loc = 0\n",
    "            for ll in range(n_iter):\n",
    "                for mm in range(ll+1, n_iter):\n",
    "                    try:\n",
    "                        A = A_array[ii, ll]\n",
    "                        W = W_fits[ii, jj, kk, mm]\n",
    "                        assert (not np.isnan(A.sum())) and (not np.isnan(W.sum()))\n",
    "                        null_results[ii, jj, kk, loc] = analysis.recovery_statistics_AW(A, W)\n",
    "                        loc += 1\n",
    "                    except (ValueError, AssertionError):\n",
    "                        pass"
   ]
  },
  {
   "cell_type": "code",
   "execution_count": 20,
   "metadata": {
    "collapsed": false
   },
   "outputs": [],
   "source": [
    "n_metrics = 2\n",
    "f, axes = plt.subplots(len(A_priors), n_metrics, figsize=(4*n_metrics, 3*len(A_priors)))\n",
    "f.suptitle('n_mixtures: {} \\nn_sources: {} k: {}'.format(n_mixtures, n_sources, k),\n",
    "           y=1., fontsize=12)\n",
    "for ii, (p, a) in enumerate(zip(A_priors, axes)):\n",
    "    (ae, am) = a\n",
    "    for jj, m in enumerate(models):\n",
    "        if ii == 0:\n",
    "            label = str(m)\n",
    "            if label != 'SC':\n",
    "                label = label.title()\n",
    "            label = label.replace('_Redo', '')\n",
    "        else:\n",
    "            label = None\n",
    "\n",
    "        delta = delta = np.nanmean(results[ii, jj, :, :, 0], axis=1)\n",
    "        mma = np.nanmean(results[ii, jj, :, :, 1], axis=1)\n",
    "        ae.semilogx(lambdas, delta, fmts[jj], label=label, c=colors[jj])\n",
    "        ae.semilogx(lambdas, delta, '.', c=colors[jj])\n",
    "        ae.minorticks_off()\n",
    "        am.semilogx(lambdas, mma, fmts[jj], label=label, c=colors[jj])\n",
    "        am.semilogx(lambdas, mma, '.', c=colors[jj])\n",
    "        am.minorticks_off()\n",
    "    ae.legend(loc='upper right', ncol=2, prop={'size': 8})\n",
    "\n",
    "    ae.set_title(p)\n",
    "    ae.set_ylabel(r'$\\Delta P$')\n",
    "    ae.set_ylim([0, np.nanmax(results[...,0])])\n",
    "    am.set_title(p)\n",
    "    am.set_ylabel(r'Median of $p_{\\mathrm{min}}$')\n",
    "    am.set_ylim([0, 80])\n",
    "    \n",
    "ae.set_xlabel(r'$\\lambda$')\n",
    "am.set_xlabel(r'$\\lambda$')\n",
    "\n",
    "\n",
    "f.tight_layout()\n",
    "plt.savefig('model_fit_comparison-n_mixtures{}-n_sources{}-k{}.pdf'.format(n_mixtures, n_sources, k))\n",
    "plt.show()\n",
    "plt.close()"
   ]
  },
  {
   "cell_type": "code",
   "execution_count": 147,
   "metadata": {
    "collapsed": false
   },
   "outputs": [],
   "source": [
    "n_metrics = 2\n",
    "f, axes = plt.subplots(len(A_priors), n_metrics, figsize=(4*n_metrics, 3*len(A_priors)))\n",
    "for ii, (p, a) in enumerate(zip(A_priors, axes)):\n",
    "    (ae, am) = a\n",
    "    for jj, m in enumerate(models):\n",
    "        if ii == 0:\n",
    "            label = str(m)\n",
    "            if label != 'SC':\n",
    "                label = label.title()\n",
    "            label = label.replace('_Redo', '')\n",
    "        else:\n",
    "            label = None\n",
    "        delta = np.nanmean(null_results[ii, jj, :, :, 0], axis=1)\n",
    "        mma = np.nanmean(null_results[ii, jj, :, :, 1], axis=1)\n",
    "\n",
    "        ae.semilogx(lambdas, delta, fmts[jj], label=label, c=colors[jj])\n",
    "        ae.semilogx(lambdas, delta, '.', c=colors[jj])\n",
    "        ae.minorticks_off()\n",
    "\n",
    "        am.semilogx(lambdas, mma, fmts[jj], label=label, c=colors[jj])\n",
    "        am.semilogx(lambdas, mma, '.', c=colors[jj])\n",
    "        am.minorticks_off()\n",
    "\n",
    "    ae.legend(loc='upper right', ncol=2, prop={'size': 8})\n",
    "\n",
    "    ae.set_title(p)\n",
    "    ae.set_ylabel(r'$\\Delta P$')\n",
    "    ae.set_ylim([0, np.nanmax(results[...,0])])\n",
    "    am.set_title(p)\n",
    "    am.set_ylabel(r'Median of $p_{\\mathrm{min}}$')\n",
    "    am.set_ylim([0, 80])\n",
    "    \n",
    "ae.set_xlabel(r'$\\lambda$')\n",
    "am.set_xlabel(r'$\\lambda$')\n",
    "\n",
    "\n",
    "f.tight_layout()\n",
    "#plt.savefig('null_model_fit_comparison.pdf')\n",
    "plt.show()\n",
    "plt.close()"
   ]
  },
  {
   "cell_type": "code",
   "execution_count": 39,
   "metadata": {
    "collapsed": true
   },
   "outputs": [],
   "source": [
    "import matplotlib"
   ]
  },
  {
   "cell_type": "code",
   "execution_count": 56,
   "metadata": {
    "collapsed": false
   },
   "outputs": [],
   "source": [
    "n_metrics = 2\n",
    "colors = [plt.get_cmap('viridis')(x) for x in np.linspace(0, 1, 5)] + ['black']\n",
    "switch = [0, 9, 4, 9, 2, 9, 3, 9, 5]\n",
    "fmts = ['-', '-', '-', '-', '-', '-', '-', '-', '-', '-']\n",
    "f, axes = plt.subplots(1, n_metrics, figsize=(4*2, 3*1))\n",
    "axes = [axes]\n",
    "for ii, (p, a) in enumerate(zip(A_priors, axes)):\n",
    "    (ae, am) = a\n",
    "    for jj, m in enumerate(models):\n",
    "        if jj in [0, 2, 4, 6, 8]:\n",
    "            if ii == 0:\n",
    "                label = str(m)\n",
    "                if label != 'SC':\n",
    "                    label = label.title()\n",
    "                label = label.replace('_Redo', '')\n",
    "                if label == '2':\n",
    "                    label = r'$L_2$'\n",
    "                if label == '4':\n",
    "                    label = r'$L_4$'\n",
    "                if label == 'Random':\n",
    "                    label = 'Rand. Prior'\n",
    "            else:\n",
    "                label = None\n",
    "\n",
    "            delta = delta = np.nanmean(results[ii, jj, :, :, 0], axis=1)\n",
    "            mma = np.nanmean(results[ii, jj, :, :, 1], axis=1)\n",
    "            ae.semilogx(lambdas, delta, fmts[jj], label=label, c=colors[switch[jj]], lw=1.5)\n",
    "            ae.semilogx(lambdas, delta, '.', c=colors[switch[jj]])\n",
    "            ae.minorticks_off()\n",
    "            am.semilogx(lambdas, mma, fmts[jj], label=label, c=colors[switch[jj]], lw=1.5)\n",
    "            am.semilogx(lambdas, mma, '.', c=colors[switch[jj]])\n",
    "            am.minorticks_off()\n",
    "        ae.legend(loc='upper right', ncol=2, prop={'size': 8}, frameon=False)\n",
    "\n",
    "        ae.set_ylabel(r'$\\Delta P$')\n",
    "        ae.set_ylim([0, np.nanmax(results[...,0])])\n",
    "        am.set_ylabel(r'Median of $p_{\\mathrm{min}}$')\n",
    "        am.set_ylim([0, 80])\n",
    "    \n",
    "ae.set_xlabel(r'$\\lambda$')\n",
    "am.set_xlabel(r'$\\lambda$')\n",
    "\n",
    "\n",
    "f.tight_layout()\n",
    "plt.savefig('model_fit_comparison-n_mixtures{}-n_sources{}-k{}.pdf'.format(n_mixtures, n_sources, k))\n",
    "plt.show()\n",
    "plt.close()"
   ]
  },
  {
   "cell_type": "code",
   "execution_count": null,
   "metadata": {
    "collapsed": true
   },
   "outputs": [],
   "source": []
  }
 ],
 "metadata": {
  "kernelspec": {
   "display_name": "Python 2",
   "language": "python",
   "name": "python2"
  },
  "language_info": {
   "codemirror_mode": {
    "name": "ipython",
    "version": 2
   },
   "file_extension": ".py",
   "mimetype": "text/x-python",
   "name": "python",
   "nbconvert_exporter": "python",
   "pygments_lexer": "ipython2",
   "version": "2.7.12"
  }
 },
 "nbformat": 4,
 "nbformat_minor": 0
}
