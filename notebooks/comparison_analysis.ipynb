{
 "cells": [
  {
   "cell_type": "code",
   "execution_count": 1,
   "metadata": {
    "collapsed": false
   },
   "outputs": [
    {
     "name": "stderr",
     "output_type": "stream",
     "text": [
      "Using gpu device 0: Tesla K40c (CNMeM is enabled with initial size: 20.0% of memory, cuDNN 4007)\n"
     ]
    },
    {
     "data": {
      "text/plain": [
       "<module 'analysis' from 'analysis.pyc'>"
      ]
     },
     "execution_count": 1,
     "metadata": {},
     "output_type": "execute_result"
    }
   ],
   "source": [
    "import matplotlib.pyplot as plt\n",
    "import numpy as np\n",
    "import cPickle\n",
    "\n",
    "import analysis\n",
    "reload(analysis)"
   ]
  },
  {
   "cell_type": "code",
   "execution_count": 21,
   "metadata": {
    "collapsed": true
   },
   "outputs": [],
   "source": [
    "fname = '/home/jesse/Downloads/comparison_128_2.pkl'\n",
    "\n",
    "A_priors = ['L2', 'L4', 'RANDOM']\n",
    "models = [2, 4, 6, 8, 'RANDOM', 'COULOMB', 'COHERENCE'] + ['SC']\n",
    "lambdas = np.logspace(-2, 2, num=9)\n",
    "colors = ['black', 'black', 'black', 'black', 'red', 'green', 'blue', 'purple']\n",
    "fmts = ['-', '--', ':', '-.', '-', '-', '-', '-']"
   ]
  },
  {
   "cell_type": "code",
   "execution_count": 3,
   "metadata": {
    "collapsed": false
   },
   "outputs": [],
   "source": [
    "with open(fname, 'r') as f:\n",
    "    data = cPickle.load(f)"
   ]
  },
  {
   "cell_type": "code",
   "execution_count": 22,
   "metadata": {
    "collapsed": false
   },
   "outputs": [],
   "source": [
    "A_dict, W_dict, W_fits, min_ks, results = data\n",
    "n_mixtures, n_sources = A_dict[A_dict.keys()[0]][0].shape\n",
    "n_iter = W_fits.shape[3]\n",
    "results = np.nan * np.ones((len(A_priors), len(models), lambdas.size, n_iter, 3))\n",
    "max_angles = np.nan * np.ones((len(A_priors), len(models), lambdas.size, n_iter, n_sources))\n",
    "other_angles = np.nan * np.ones((len(A_priors), len(models), lambdas.size, n_iter, n_sources**2-n_sources))"
   ]
  },
  {
   "cell_type": "code",
   "execution_count": 23,
   "metadata": {
    "collapsed": false
   },
   "outputs": [],
   "source": [
    "for ii, p in enumerate(A_priors):\n",
    "    for jj, m in enumerate(models):\n",
    "        A = A_dict[p][jj]\n",
    "        for kk, l in enumerate(lambdas):\n",
    "            for ll in range(n_iter):\n",
    "                W = W_fits[ii, jj, kk, ll]\n",
    "                hd, (pd, ma, oa, mod) = analysis.recovery_statistics_AW(A, W)\n",
    "                results[ii, jj, kk, ll] = [hd, pd, mod]\n",
    "                max_angles[ii, jj, kk, ll] = ma\n",
    "                other_angles[ii, jj, kk, ll] = oa"
   ]
  },
  {
   "cell_type": "code",
   "execution_count": 24,
   "metadata": {
    "collapsed": false
   },
   "outputs": [],
   "source": [
    "f, axes = plt.subplots(len(A_priors), 4, figsize=(12, 12))\n",
    "for ii, (p, a) in enumerate(zip(A_priors, axes)):\n",
    "    (ad, ae, ap, aa) = a\n",
    "    for jj, m in enumerate(models):\n",
    "        if ii == 0:\n",
    "            label = str(m)\n",
    "            ad.legend(loc='best', prop={'size': 12})\n",
    "        else:\n",
    "            label = None\n",
    "        ma = np.median(max_angles[ii, jj, :, :], axis=-1)\n",
    "        oa = np.median(other_angles[ii, jj, :, :], axis=-1)\n",
    "        da = (ma - oa).mean(axis=1)\n",
    "        dist = results[ii, jj, :, :, 0].mean(axis=1)\n",
    "        delta = results[ii, jj, :, :, 1].mean(axis=1)\n",
    "        distp = results[ii, jj, :, :, 2].mean(axis=1)\n",
    "        ad.semilogx(lambdas, dist, fmts[jj], label=label, c=colors[jj])\n",
    "        ad.semilogx(lambdas, dist, '.', c=colors[jj])\n",
    "        ae.semilogx(lambdas, delta, fmts[jj], label=label, c=colors[jj])\n",
    "        ae.semilogx(lambdas, delta, '.', c=colors[jj])\n",
    "        ap.semilogx(lambdas, distp, fmts[jj], label=label, c=colors[jj])\n",
    "        ap.semilogx(lambdas, distp, '.', c=colors[jj])\n",
    "        aa.semilogx(lambdas, da, fmts[jj], label=label, c=colors[jj])\n",
    "        aa.semilogx(lambdas, da, '.', c=colors[jj])\n",
    "\n",
    "    ad.set_title(p)\n",
    "    ad.set_xlabel('Lambda')\n",
    "    ad.set_ylabel('Hellinger Distance')\n",
    "    ae.set_title(p)\n",
    "    ae.set_xlabel('Lambda')\n",
    "    ae.set_ylabel('Permutation Delta')\n",
    "    ap.set_title(p)\n",
    "    ap.set_xlabel('Lambda')\n",
    "    ap.set_ylabel('Hellinger Distance Max vs. Other')\n",
    "    aa.set_title(p)\n",
    "    aa.set_xlabel('Lambda')\n",
    "    aa.set_ylabel('Difference in Median Max vs. Other')\n",
    "f.tight_layout()\n",
    "#    plt.savefig(p+'.pdf')\n",
    "plt.show()\n",
    "plt.close()"
   ]
  },
  {
   "cell_type": "code",
   "execution_count": null,
   "metadata": {
    "collapsed": true
   },
   "outputs": [],
   "source": [
    "f, axes = plt.subplots(len(A_priors), len(models), figsize=(24, 8))\n",
    "for ii, (p, a) in enumerate(zip(A_priors, axes)):\n",
    "    for jj, (m, ax) in enumerate(zip(models, a)):\n",
    "        ma = max_angles[ii, jj, 4, :]\n",
    "        oa = other_angles[ii, jj, 4, :]\n",
    "        md, bins = analysis.angle_histogram(ma)\n",
    "        od, bins = analysis.angle_histogram(oa)\n",
    "        ax.semilogy(bins[:-1], md, drawstyle='steps', color='yellow', lw=1.5)\n",
    "        ax.semilogy(bins[:-1], od, drawstyle='steps', color='green', lw=1.5)\n",
    "\n",
    "        ax.set_title(p)\n",
    "        ax.set_xlabel('Angle')\n",
    "        ax.set_ylabel(str(m))\n",
    "        ax.set_xticks([0, 45, 90])\n",
    "        ax.set_yticks([1e-6, 1e-3, 1e0])\n",
    "f.tight_layout()\n",
    "#    plt.savefig(p+'.pdf')\n",
    "plt.show()\n",
    "plt.close()"
   ]
  },
  {
   "cell_type": "code",
   "execution_count": 5,
   "metadata": {
    "collapsed": false
   },
   "outputs": [
    {
     "name": "stderr",
     "output_type": "stream",
     "text": [
      "Using gpu device 0: Tesla K40c (CNMeM is enabled with initial size: 20.0% of memory, cuDNN 4007)\n"
     ]
    }
   ],
   "source": [
    "import h5py\n",
    "import analysis"
   ]
  },
  {
   "cell_type": "code",
   "execution_count": 3,
   "metadata": {
    "collapsed": false
   },
   "outputs": [],
   "source": [
    "with h5py.File('/home/jesse/Downloads/a_array-128_OC-2.0_priors-L2_L4_RANDOM_COHERENCE.h5') as f:\n",
    "    A_array = f['A_array'].value\n",
    "    A_priors = f['A_priors'].value"
   ]
  },
  {
   "cell_type": "code",
   "execution_count": 11,
   "metadata": {
    "collapsed": false
   },
   "outputs": [
    {
     "name": "stdout",
     "output_type": "stream",
     "text": [
      "L2 2\n",
      "L4 6\n",
      "RANDOM 4\n",
      "COHERENCE 5\n"
     ]
    }
   ],
   "source": [
    "for ii, p in enumerate(A_priors):\n",
    "    print p, analysis.find_max_allowed_k(A_array[ii])"
   ]
  },
  {
   "cell_type": "code",
   "execution_count": null,
   "metadata": {
    "collapsed": true
   },
   "outputs": [],
   "source": []
  }
 ],
 "metadata": {
  "kernelspec": {
   "display_name": "Python 2",
   "language": "python",
   "name": "python2"
  },
  "language_info": {
   "codemirror_mode": {
    "name": "ipython",
    "version": 2
   },
   "file_extension": ".py",
   "mimetype": "text/x-python",
   "name": "python",
   "nbconvert_exporter": "python",
   "pygments_lexer": "ipython2",
   "version": "2.7.12"
  }
 },
 "nbformat": 4,
 "nbformat_minor": 0
}
