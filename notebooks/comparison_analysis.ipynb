{
 "cells": [
  {
   "cell_type": "code",
   "execution_count": 1,
   "metadata": {
    "collapsed": false
   },
   "outputs": [
    {
     "name": "stderr",
     "output_type": "stream",
     "text": [
      "Using gpu device 0: Tesla K40c (CNMeM is enabled with initial size: 20.0% of memory, cuDNN 4007)\n"
     ]
    },
    {
     "data": {
      "text/plain": [
       "<module 'oc_ica.analysis' from '/home/jesse/Development/oc_ica/oc_ica/analysis.pyc'>"
      ]
     },
     "execution_count": 1,
     "metadata": {},
     "output_type": "execute_result"
    }
   ],
   "source": [
    "import matplotlib.pyplot as plt\n",
    "import numpy as np\n",
    "import cPickle, h5py, os\n",
    "\n",
    "from oc_ica import analysis\n",
    "reload(analysis)"
   ]
  },
  {
   "cell_type": "markdown",
   "metadata": {},
   "source": [
    "# HDF5 Storage"
   ]
  },
  {
   "cell_type": "code",
   "execution_count": 2,
   "metadata": {
    "collapsed": false
   },
   "outputs": [
    {
     "name": "stdout",
     "output_type": "stream",
     "text": [
      "['2', '4', '6', 'COULOMB', 'COULOMB_F', 'RANDOM', 'RANDOM_F']\n"
     ]
    }
   ],
   "source": [
    "folder = '/home/jesse/Development/results/oc_ica'\n",
    "a_file = 'a_array-128_OC-2.0_priors-L2_L4_RANDOM_COHERENCE.h5'\n",
    "fit_files = ['comparison_mixtures-128_OC-2.0_priors-L2_L4_RANDOM_COHERENCE_models-2.h5',\n",
    "             'comparison_mixtures-128_OC-2.0_priors-L2_L4_RANDOM_COHERENCE_models-4.h5',\n",
    "             'comparison_mixtures-128_OC-2.0_priors-L2_L4_RANDOM_COHERENCE_models-6.h5',\n",
    "             'comparison_mixtures-128_OC-2.0_priors-L2_L4_RANDOM_COHERENCE_models-COULOMB.h5',\n",
    "             'comparison_mixtures-128_OC-2.0_priors-L2_L4_RANDOM_COHERENCE_models-COULOMB_F.h5',\n",
    "             'comparison_mixtures-128_OC-2.0_priors-L2_L4_RANDOM_COHERENCE_models-RANDOM.h5',\n",
    "             'comparison_mixtures-128_OC-2.0_priors-L2_L4_RANDOM_COHERENCE_models-RANDOM_F.h5']\n",
    "models = [f.split('.')[-2].split('-')[-1] for f in fit_files]\n",
    "print models"
   ]
  },
  {
   "cell_type": "code",
   "execution_count": 4,
   "metadata": {
    "collapsed": false
   },
   "outputs": [],
   "source": [
    "with h5py.File(os.path.join(folder, a_file), 'r') as f:\n",
    "    A_array = f['A_array'].value\n",
    "    A_priors = f['A_priors'].value"
   ]
  },
  {
   "cell_type": "code",
   "execution_count": 10,
   "metadata": {
    "collapsed": false
   },
   "outputs": [],
   "source": [
    "colors = ['black', 'black', 'black', 'red', 'red', 'green', 'green']\n",
    "fmts = ['-', '--', ':', '-', '--', '-', '--']\n",
    "with h5py.File(os.path.join(folder, fit_files[0]), 'r') as f:\n",
    "    lambdas = f['lambdas'].value\n",
    "n_mixtures, n_sources = A_array.shape[2:]\n",
    "n_iter = A_array.shape[1]"
   ]
  },
  {
   "cell_type": "code",
   "execution_count": 6,
   "metadata": {
    "collapsed": false
   },
   "outputs": [],
   "source": [
    "W_fits = np.nan * np.ones((len(A_priors), len(models), lambdas.size, n_iter, n_sources, n_mixtures))\n",
    "results = np.nan * np.ones((len(A_priors), len(models), lambdas.size, n_iter, 3))\n",
    "max_angles = np.nan * np.ones((len(A_priors), len(models), lambdas.size, n_iter, n_sources))\n",
    "other_angles = np.nan * np.ones((len(A_priors), len(models), lambdas.size, n_iter, n_sources**2-n_sources))\n",
    "\n",
    "for ii, f_name in enumerate(fit_files):\n",
    "    with h5py.File(os.path.join(folder, f_name), 'r') as f:\n",
    "        W_fits[:, ii] = np.squeeze(f['W_fits'])"
   ]
  },
  {
   "cell_type": "code",
   "execution_count": 7,
   "metadata": {
    "collapsed": false
   },
   "outputs": [],
   "source": [
    "reload(analysis)\n",
    "for ii, p in enumerate(A_priors):\n",
    "    for jj, m in enumerate(models):\n",
    "        for kk, l in enumerate(lambdas):\n",
    "            for ll in range(n_iter):\n",
    "                try:\n",
    "                    A = A_array[ii, ll]\n",
    "                    W = W_fits[ii, jj, kk, ll]\n",
    "                    hd, (pd, ma, oa, mod) = analysis.recovery_statistics_AW(A, W)\n",
    "                    results[ii, jj, kk, ll] = [hd, pd, mod]\n",
    "                    max_angles[ii, jj, kk, ll] = ma\n",
    "                    other_angles[ii, jj, kk, ll] = oa\n",
    "                except ValueError:\n",
    "                    print ii, jj, kk, ll"
   ]
  },
  {
   "cell_type": "code",
   "execution_count": 18,
   "metadata": {
    "collapsed": false
   },
   "outputs": [],
   "source": [
    "f, axes = plt.subplots(len(A_priors), 5, figsize=(3*5, 3*len(A_priors)))\n",
    "for ii, (p, a) in enumerate(zip(A_priors, axes)):\n",
    "    (ad, ae, ap, aa, am) = a\n",
    "    for jj, m in enumerate(models):\n",
    "        if ii == 0:\n",
    "            label = str(m)\n",
    "        else:\n",
    "            label = None\n",
    "        ma = np.median(max_angles[ii, jj, :, :], axis=-1)\n",
    "        oa = np.median(other_angles[ii, jj, :, :], axis=-1)\n",
    "        da = (ma - oa).mean(axis=1)\n",
    "        dist = results[ii, jj, :, :, 0].mean(axis=1)\n",
    "        delta = results[ii, jj, :, :, 1].mean(axis=1)\n",
    "        distp = results[ii, jj, :, :, 2].mean(axis=1)\n",
    "        ad.semilogx(lambdas, dist, fmts[jj], label=label, c=colors[jj])\n",
    "        ad.semilogx(lambdas, dist, '.', c=colors[jj])\n",
    "        ae.semilogx(lambdas, delta, fmts[jj], label=label, c=colors[jj])\n",
    "        ae.semilogx(lambdas, delta, '.', c=colors[jj])\n",
    "        ap.semilogx(lambdas, distp, fmts[jj], label=label, c=colors[jj])\n",
    "        ap.semilogx(lambdas, distp, '.', c=colors[jj])\n",
    "        aa.semilogx(lambdas, da, fmts[jj], label=label, c=colors[jj])\n",
    "        aa.semilogx(lambdas, da, '.', c=colors[jj])\n",
    "        am.semilogx(lambdas, ma.mean(axis=1), fmts[jj], label=label, c=colors[jj])\n",
    "        am.semilogx(lambdas, ma.mean(axis=1), '.', c=colors[jj])\n",
    "    ad.legend(loc='lower left', bbox_to_anchor=(.5, .4, 1.1, 1.1), prop={'size': 10})\n",
    "\n",
    "    ad.set_title(p)\n",
    "    ad.set_xlabel('Lambda')\n",
    "    ad.set_ylabel('Hellinger Distance')\n",
    "    ae.set_title(p)\n",
    "    ae.set_xlabel('Lambda')\n",
    "    ae.set_ylabel('Permutation Delta')\n",
    "    ap.set_title(p)\n",
    "    ap.set_xlabel('Lambda')\n",
    "    ap.set_ylabel('Hellinger Dist. Max vs. Other')\n",
    "    aa.set_title(p)\n",
    "    aa.set_xlabel('Lambda')\n",
    "    aa.set_ylabel('Diff. in Median Max vs. Other')\n",
    "    am.set_title(p)\n",
    "    am.set_xlabel('Lambda')\n",
    "    am.set_ylabel('Median Max')\n",
    "\n",
    "f.tight_layout()\n",
    "plt.savefig('model_fit_comparison.pdf')\n",
    "plt.show()\n",
    "plt.close()"
   ]
  },
  {
   "cell_type": "code",
   "execution_count": 22,
   "metadata": {
    "collapsed": false
   },
   "outputs": [],
   "source": [
    "f, axes = plt.subplots(len(A_priors), len(models), figsize=(6*len(models), 2*len(A_priors)))\n",
    "for ii, (p, a) in enumerate(zip(A_priors, axes)):\n",
    "    for jj, (m, ax) in enumerate(zip(models, a)):\n",
    "        if (ii == 3) and (jj == 1):\n",
    "            labels = ['Max dist.', 'Max median', 'Max mode', 'Other dist.', 'Other median', 'Other mode']\n",
    "        else:\n",
    "            labels = 6 * [None]\n",
    "        ma = max_angles[ii, jj, 4, :]\n",
    "        oa = other_angles[ii, jj, 4, :]\n",
    "        m_median = np.median(ma)\n",
    "        o_median = np.median(oa)\n",
    "        md, bins = analysis.angle_histogram(ma)\n",
    "        od, bins = analysis.angle_histogram(oa)\n",
    "        m_mode = md.argmax()\n",
    "        o_mode = od.argmax()\n",
    "        ax.semilogy(bins[:-1], md, drawstyle='steps', color='red', lw=1.5, label=labels[0])\n",
    "        ax.axvline(m_median, color='red', ls='dotted', label=labels[1])\n",
    "        ax.axvline(m_mode, color='red', ls='dashed', label=labels[2])\n",
    "        ax.semilogy(bins[:-1], od, drawstyle='steps', color='black', lw=1.5, label=labels[3])\n",
    "        ax.axvline(o_median, color='black', ls='dotted', label=labels[4])\n",
    "        ax.axvline(o_mode, color='black', ls='dashed', label=labels[5])\n",
    "        if (ii == 3) and (jj == 1):\n",
    "            ax.legend(loc='center', prop={'size': 10})\n",
    "\n",
    "        ax.set_title(str(m))\n",
    "        if ii == len(A_priors)-1:\n",
    "            ax.set_xlabel('Angle')\n",
    "        if jj == 0:\n",
    "            ax.set_ylabel(p)\n",
    "        ax.set_xticks([0, 45, 90])\n",
    "        ax.set_yticks([1e-6, 1e-3, 1e0])\n",
    "\n",
    "f.tight_layout()\n",
    "plt.savefig('permutation_comparison.pdf')\n",
    "plt.show()\n",
    "plt.close()"
   ]
  },
  {
   "cell_type": "markdown",
   "metadata": {},
   "source": [
    "# Pickle Storage"
   ]
  },
  {
   "cell_type": "code",
   "execution_count": 3,
   "metadata": {
    "collapsed": false
   },
   "outputs": [],
   "source": [
    "fname = ''\n",
    "with open(fname, 'r') as f:\n",
    "    data = cPickle.load(f)"
   ]
  },
  {
   "cell_type": "code",
   "execution_count": 22,
   "metadata": {
    "collapsed": false
   },
   "outputs": [],
   "source": [
    "A_dict, W_dict, W_fits, min_ks, results = data\n",
    "n_mixtures, n_sources = A_dict[A_dict.keys()[0]][0].shape\n",
    "n_iter = W_fits.shape[3]\n",
    "results = np.nan * np.ones((len(A_priors), len(models), lambdas.size, n_iter, 3))\n",
    "max_angles = np.nan * np.ones((len(A_priors), len(models), lambdas.size, n_iter, n_sources))\n",
    "other_angles = np.nan * np.ones((len(A_priors), len(models), lambdas.size, n_iter, n_sources**2-n_sources))"
   ]
  },
  {
   "cell_type": "code",
   "execution_count": 23,
   "metadata": {
    "collapsed": false
   },
   "outputs": [],
   "source": [
    "for ii, p in enumerate(A_priors):\n",
    "    for jj, m in enumerate(models):\n",
    "        A = A_dict[p][jj]\n",
    "        for kk, l in enumerate(lambdas):\n",
    "            for ll in range(n_iter):\n",
    "                W = W_fits[ii, jj, kk, ll]\n",
    "                hd, (pd, ma, oa, mod) = analysis.recovery_statistics_AW(A, W)\n",
    "                results[ii, jj, kk, ll] = [hd, pd, mod]\n",
    "                max_angles[ii, jj, kk, ll] = ma\n",
    "                other_angles[ii, jj, kk, ll] = oa"
   ]
  }
 ],
 "metadata": {
  "kernelspec": {
   "display_name": "Python 2",
   "language": "python",
   "name": "python2"
  },
  "language_info": {
   "codemirror_mode": {
    "name": "ipython",
    "version": 2
   },
   "file_extension": ".py",
   "mimetype": "text/x-python",
   "name": "python",
   "nbconvert_exporter": "python",
   "pygments_lexer": "ipython2",
   "version": "2.7.12"
  }
 },
 "nbformat": 4,
 "nbformat_minor": 0
}
