{
 "cells": [
  {
   "cell_type": "code",
   "execution_count": 1,
   "metadata": {
    "collapsed": false
   },
   "outputs": [
    {
     "name": "stderr",
     "output_type": "stream",
     "text": [
      "Using gpu device 0: Tesla K40c (CNMeM is enabled with initial size: 20.0% of memory, cuDNN 4007)\n"
     ]
    },
    {
     "data": {
      "text/plain": [
       "<module 'oc_ica.analysis' from '/home/jesse/Development/oc_ica/oc_ica/analysis.pyc'>"
      ]
     },
     "execution_count": 1,
     "metadata": {},
     "output_type": "execute_result"
    }
   ],
   "source": [
    "from __future__ import division\n",
    "import matplotlib\n",
    "matplotlib.use('Agg')\n",
    "import matplotlib.pyplot as plt\n",
    "import matplotlib.patheffects as pe\n",
    "import numpy as np\n",
    "import cPickle, h5py, os, glob\n",
    "\n",
    "from oc_ica import analysis, styles, plotting\n",
    "reload(analysis)"
   ]
  },
  {
   "cell_type": "markdown",
   "metadata": {},
   "source": [
    "# HDF5 Storage"
   ]
  },
  {
   "cell_type": "code",
   "execution_count": 2,
   "metadata": {
    "collapsed": true
   },
   "outputs": [],
   "source": [
    "base_folder = '/home/jesse/Development/results/oc_ica/'"
   ]
  },
  {
   "cell_type": "code",
   "execution_count": 3,
   "metadata": {
    "collapsed": true
   },
   "outputs": [],
   "source": [
    "n_mixtures = 32\n",
    "OCs = ['1.0', '1.5', '2.0', '2.25', '2.5', '2.75', '3.0', '3.5']\n",
    "OC_k = 6\n",
    "priors = ['COHERENCE_SOFT', 'COHERENCE', 'INIT']\n",
    "keep_max = False\n",
    "\n",
    "ks = [2, 4, 6, 8, 10, 12, 14, 16]\n",
    "k_OC = '3.0'"
   ]
  },
  {
   "cell_type": "code",
   "execution_count": 3,
   "metadata": {
    "collapsed": false
   },
   "outputs": [
    {
     "name": "stdout",
     "output_type": "stream",
     "text": [
      "kkkkkkkkkkkkkk 2\n",
      "kkkkkkkkkkkkkk 2\n",
      "kkkkkkkkkkkkkk 4\n",
      "kkkkkkkkkkkkkk 4\n",
      "kkkkkkkkkkkkkk 6\n",
      "kkkkkkkkkkkkkk 6\n",
      "kkkkkkkkkkkkkk 8\n",
      "kkkkkkkkkkkkkk 8\n",
      "kkkkkkkkkkkkkk 10\n",
      "kkkkkkkkkkkkkk 10\n",
      "kkkkkkkkkkkkkk 12\n",
      "kkkkkkkkkkkkkk 12\n",
      "kkkkkkkkkkkkkk 14\n",
      "kkkkkkkkkkkkkk 14\n",
      "kkkkkkkkkkkkkk 16\n",
      "kkkkkkkkkkkkkk 16\n"
     ]
    }
   ],
   "source": [
    "reload(analysis)\n",
    "\n",
    "for OC in OCs:\n",
    "    analysis.comparison_analysis_postprocess(base_folder, n_mixtures, OC, OC_k, priors, keep_max, overwrite=True)\n",
    "    \n",
    "for k in ks:\n",
    "    print 'kkkkkkkkkkkkkk', k\n",
    "    analysis.comparison_analysis_postprocess(base_folder, n_mixtures, k_OC, k, priors, keep_max, overwrite=True)\n",
    "    print 'kkkkkkkkkkkkkk', k"
   ]
  },
  {
   "cell_type": "markdown",
   "metadata": {
    "collapsed": true
   },
   "source": [
    "# Summary Plots"
   ]
  },
  {
   "cell_type": "code",
   "execution_count": 52,
   "metadata": {
    "collapsed": false,
    "scrolled": false
   },
   "outputs": [
    {
     "name": "stdout",
     "output_type": "stream",
     "text": [
      "(0.265, 0.37, 0.10999999999999999)\n"
     ]
    }
   ],
   "source": [
    "reload(analysis)\n",
    "reload(plotting)\n",
    "k_OC = '2.0'\n",
    "OC_k = 12\n",
    "\n",
    "results, null_results, lambdas = analysis.comparison_analysis_postprocess(base_folder,\n",
    "                                                                          n_mixtures, k_OC, OC_k, priors, keep_max)\n",
    "\n",
    "\n",
    "OCs = ['1.0', '1.5', '2.0', '2.25', '2.5', '2.75', '3.0', '3.5', '4.0']\n",
    "keep_OCs = ['1.0', '1.5', '2.0', '2.25', '2.5', '2.75', '3.0', '3.5']\n",
    "\n",
    "#OCs = ['1.0', '1.5']\n",
    "#keep_OCs = ['1.0', '1.5']\n",
    "\n",
    "models = ['2', '4', 'COULOMB', 'COULOMB_F', 'RANDOM', 'RANDOM_F', 'SC', 'SM']\n",
    "keep_models = ['2', '4', 'COULOMB', 'COULOMB_F', 'RANDOM', 'RANDOM_F', 'SM', 'SC']\n",
    "\n",
    "ks = [2, 4, 6, 8, 10, 12, 14, 16]\n",
    "#ks = [2, 4]\n",
    "\n",
    "n_prior = 0\n",
    "f = plt.figure(figsize=(5, 3))\n",
    "\n",
    "l_edge = .08375\n",
    "r_edge = .01\n",
    "top_edge = .025\n",
    "bot_edge = .125\n",
    "width = .265\n",
    "h_gap = (1 - l_edge -r_edge - 3 * width ) / 2\n",
    "height = .37\n",
    "mid_gap = 1 - top_edge - bot_edge - 2 * height\n",
    "print(width, height, mid_gap)\n",
    "\n",
    "ap = f.add_axes((l_edge, 1 - top_edge - height, width, height))\n",
    "ax1 = f.add_axes((l_edge + width + h_gap, 1 - top_edge - height, width, height))\n",
    "ax2 = f.add_axes((l_edge + 2 * width + 2 * h_gap, 1 - top_edge - height, width, height))\n",
    "ax3 = f.add_axes((l_edge + width + h_gap, bot_edge, width, height))\n",
    "ax4 = f.add_axes((l_edge + 2 * width + 2 * h_gap, bot_edge, width, height))\n",
    "\n",
    "plotting.recovery_vs_lambda(models, keep_models, results, null_results, lambdas,\n",
    "                            priors, n_prior, ap, add_ylabel=True)\n",
    "\n",
    "plotting.recovery_vs_oc_or_k(models, keep_models, base_folder, n_mixtures,\n",
    "                              True, ax1, priors, n_prior,\n",
    "                              OCs=OCs, keep_OCs=keep_OCs, OC_k=OC_k)\n",
    "\n",
    "plotting.recovery_vs_oc_or_k(models, keep_models, base_folder, n_mixtures,\n",
    "                              False, ax2, priors, n_prior,\n",
    "                              ks=ks, k_OC=k_OC)\n",
    "\n",
    "OC_k = 6\n",
    "k_OC = '3.0'\n",
    "\n",
    "plotting.recovery_vs_oc_or_k(models, keep_models, base_folder, n_mixtures,\n",
    "                              True, ax3, priors, n_prior,\n",
    "                              OCs=OCs, keep_OCs=keep_OCs, OC_k=OC_k,\n",
    "                              add_ylabel=True, add_xlabel=True,\n",
    "                              legend=True)\n",
    "\n",
    "plotting.recovery_vs_oc_or_k(models, keep_models, base_folder, n_mixtures,\n",
    "                              False, ax4, priors, n_prior,\n",
    "                              ks=ks, k_OC=k_OC,\n",
    "                              add_xlabel=True)\n",
    "y1 = .91\n",
    "y2 = .42\n",
    "x1 = .01\n",
    "x3 = .68\n",
    "f.text(x1, y1, 'a)', fontsize=styles.letter_fontsize)\n",
    "f.text(.355, y1, 'b)', fontsize=styles.letter_fontsize)\n",
    "f.text(x3, y1, 'c)', fontsize=styles.letter_fontsize)\n",
    "f.text(.34, y2, 'd)', fontsize=styles.letter_fontsize)\n",
    "f.text(x3, y2, 'e)', fontsize=styles.letter_fontsize)\n",
    "\n",
    "plt.savefig('/home/jesse/Downloads/figure3.pdf')\n",
    "plt.savefig('/home/jesse/Downloads/figure3.png', dpi=100)\n",
    "plt.close()\n",
    "#plt.show()"
   ]
  },
  {
   "cell_type": "markdown",
   "metadata": {
    "collapsed": true
   },
   "source": [
    "# A Check"
   ]
  },
  {
   "cell_type": "code",
   "execution_count": 3,
   "metadata": {
    "collapsed": false
   },
   "outputs": [],
   "source": [
    "a_file = 'a_array-32_OC-2.0_priors-COHERENCE_INIT.h5'\n",
    "with h5py.File(os.path.join(base_folder, a_file), 'r') as f:\n",
    "    A_array = f['A_array'].value\n",
    "    A_priors = f['A_priors'].value"
   ]
  },
  {
   "cell_type": "code",
   "execution_count": 7,
   "metadata": {
    "collapsed": false
   },
   "outputs": [],
   "source": [
    "reload(plotting)\n",
    "plotting.plot_angles_1column(np.transpose(A_array, (0, 1, 3, 2)), 1, A_priors, plot_init=False)\n",
    "plt.show()"
   ]
  },
  {
   "cell_type": "code",
   "execution_count": 30,
   "metadata": {
    "collapsed": false
   },
   "outputs": [
    {
     "data": {
      "text/plain": [
       "(2, 10, 32, 64)"
      ]
     },
     "execution_count": 30,
     "metadata": {},
     "output_type": "execute_result"
    }
   ],
   "source": [
    "A_array.shape"
   ]
  },
  {
   "cell_type": "code",
   "execution_count": 91,
   "metadata": {
    "collapsed": false
   },
   "outputs": [
    {
     "data": {
      "text/plain": [
       "(7, 11, 17, 10, 2)"
      ]
     },
     "execution_count": 91,
     "metadata": {},
     "output_type": "execute_result"
    }
   ],
   "source": [
    "results.shape"
   ]
  },
  {
   "cell_type": "code",
   "execution_count": 92,
   "metadata": {
    "collapsed": false
   },
   "outputs": [
    {
     "data": {
      "text/plain": [
       "array([[[ 54.        ,  37.72133636],\n",
       "        [ 48.        ,  38.90277863],\n",
       "        [ 52.        ,  37.9727478 ],\n",
       "        [ 52.        ,  37.98392487],\n",
       "        [ 56.        ,  38.73665619],\n",
       "        [ 58.        ,  39.25117493],\n",
       "        [ 56.        ,  38.4540863 ],\n",
       "        [ 48.        ,  39.203125  ],\n",
       "        [ 64.        ,  39.57582092],\n",
       "        [ 52.        ,  38.31627655]],\n",
       "\n",
       "       [[         nan,          nan],\n",
       "        [         nan,          nan],\n",
       "        [         nan,          nan],\n",
       "        [         nan,          nan],\n",
       "        [         nan,          nan],\n",
       "        [         nan,          nan],\n",
       "        [         nan,          nan],\n",
       "        [         nan,          nan],\n",
       "        [         nan,          nan],\n",
       "        [         nan,          nan]],\n",
       "\n",
       "       [[         nan,          nan],\n",
       "        [         nan,          nan],\n",
       "        [         nan,          nan],\n",
       "        [         nan,          nan],\n",
       "        [         nan,          nan],\n",
       "        [         nan,          nan],\n",
       "        [         nan,          nan],\n",
       "        [         nan,          nan],\n",
       "        [         nan,          nan],\n",
       "        [         nan,          nan]],\n",
       "\n",
       "       [[         nan,          nan],\n",
       "        [         nan,          nan],\n",
       "        [         nan,          nan],\n",
       "        [         nan,          nan],\n",
       "        [         nan,          nan],\n",
       "        [         nan,          nan],\n",
       "        [         nan,          nan],\n",
       "        [         nan,          nan],\n",
       "        [         nan,          nan],\n",
       "        [         nan,          nan]],\n",
       "\n",
       "       [[         nan,          nan],\n",
       "        [         nan,          nan],\n",
       "        [         nan,          nan],\n",
       "        [         nan,          nan],\n",
       "        [         nan,          nan],\n",
       "        [         nan,          nan],\n",
       "        [         nan,          nan],\n",
       "        [         nan,          nan],\n",
       "        [         nan,          nan],\n",
       "        [         nan,          nan]],\n",
       "\n",
       "       [[         nan,          nan],\n",
       "        [         nan,          nan],\n",
       "        [         nan,          nan],\n",
       "        [         nan,          nan],\n",
       "        [         nan,          nan],\n",
       "        [         nan,          nan],\n",
       "        [         nan,          nan],\n",
       "        [         nan,          nan],\n",
       "        [         nan,          nan],\n",
       "        [         nan,          nan]],\n",
       "\n",
       "       [[         nan,          nan],\n",
       "        [         nan,          nan],\n",
       "        [         nan,          nan],\n",
       "        [         nan,          nan],\n",
       "        [         nan,          nan],\n",
       "        [         nan,          nan],\n",
       "        [         nan,          nan],\n",
       "        [         nan,          nan],\n",
       "        [         nan,          nan],\n",
       "        [         nan,          nan]],\n",
       "\n",
       "       [[         nan,          nan],\n",
       "        [         nan,          nan],\n",
       "        [         nan,          nan],\n",
       "        [         nan,          nan],\n",
       "        [         nan,          nan],\n",
       "        [         nan,          nan],\n",
       "        [         nan,          nan],\n",
       "        [         nan,          nan],\n",
       "        [         nan,          nan],\n",
       "        [         nan,          nan]],\n",
       "\n",
       "       [[         nan,          nan],\n",
       "        [         nan,          nan],\n",
       "        [         nan,          nan],\n",
       "        [         nan,          nan],\n",
       "        [         nan,          nan],\n",
       "        [         nan,          nan],\n",
       "        [         nan,          nan],\n",
       "        [         nan,          nan],\n",
       "        [         nan,          nan],\n",
       "        [         nan,          nan]],\n",
       "\n",
       "       [[         nan,          nan],\n",
       "        [         nan,          nan],\n",
       "        [         nan,          nan],\n",
       "        [         nan,          nan],\n",
       "        [         nan,          nan],\n",
       "        [         nan,          nan],\n",
       "        [         nan,          nan],\n",
       "        [         nan,          nan],\n",
       "        [         nan,          nan],\n",
       "        [         nan,          nan]],\n",
       "\n",
       "       [[         nan,          nan],\n",
       "        [         nan,          nan],\n",
       "        [         nan,          nan],\n",
       "        [         nan,          nan],\n",
       "        [         nan,          nan],\n",
       "        [         nan,          nan],\n",
       "        [         nan,          nan],\n",
       "        [         nan,          nan],\n",
       "        [         nan,          nan],\n",
       "        [         nan,          nan]],\n",
       "\n",
       "       [[         nan,          nan],\n",
       "        [         nan,          nan],\n",
       "        [         nan,          nan],\n",
       "        [         nan,          nan],\n",
       "        [         nan,          nan],\n",
       "        [         nan,          nan],\n",
       "        [         nan,          nan],\n",
       "        [         nan,          nan],\n",
       "        [         nan,          nan],\n",
       "        [         nan,          nan]],\n",
       "\n",
       "       [[         nan,          nan],\n",
       "        [         nan,          nan],\n",
       "        [         nan,          nan],\n",
       "        [         nan,          nan],\n",
       "        [         nan,          nan],\n",
       "        [         nan,          nan],\n",
       "        [         nan,          nan],\n",
       "        [         nan,          nan],\n",
       "        [         nan,          nan],\n",
       "        [         nan,          nan]],\n",
       "\n",
       "       [[         nan,          nan],\n",
       "        [         nan,          nan],\n",
       "        [         nan,          nan],\n",
       "        [         nan,          nan],\n",
       "        [         nan,          nan],\n",
       "        [         nan,          nan],\n",
       "        [         nan,          nan],\n",
       "        [         nan,          nan],\n",
       "        [         nan,          nan],\n",
       "        [         nan,          nan]],\n",
       "\n",
       "       [[         nan,          nan],\n",
       "        [         nan,          nan],\n",
       "        [         nan,          nan],\n",
       "        [         nan,          nan],\n",
       "        [         nan,          nan],\n",
       "        [         nan,          nan],\n",
       "        [         nan,          nan],\n",
       "        [         nan,          nan],\n",
       "        [         nan,          nan],\n",
       "        [         nan,          nan]],\n",
       "\n",
       "       [[         nan,          nan],\n",
       "        [         nan,          nan],\n",
       "        [         nan,          nan],\n",
       "        [         nan,          nan],\n",
       "        [         nan,          nan],\n",
       "        [         nan,          nan],\n",
       "        [         nan,          nan],\n",
       "        [         nan,          nan],\n",
       "        [         nan,          nan],\n",
       "        [         nan,          nan]],\n",
       "\n",
       "       [[         nan,          nan],\n",
       "        [         nan,          nan],\n",
       "        [         nan,          nan],\n",
       "        [         nan,          nan],\n",
       "        [         nan,          nan],\n",
       "        [         nan,          nan],\n",
       "        [         nan,          nan],\n",
       "        [         nan,          nan],\n",
       "        [         nan,          nan],\n",
       "        [         nan,          nan]]], dtype=float32)"
      ]
     },
     "execution_count": 92,
     "metadata": {},
     "output_type": "execute_result"
    }
   ],
   "source": [
    "results[0, -1]"
   ]
  },
  {
   "cell_type": "code",
   "execution_count": 104,
   "metadata": {
    "collapsed": false
   },
   "outputs": [],
   "source": [
    "rng = np.random.RandomState(202020)\n",
    "\n",
    "lambd = 1.0\n",
    "source_dim = 32\n",
    "n_samples = 10000\n",
    "k = 8\n",
    "\n",
    "S = rng.laplace(0, lambd, size=(source_dim, n_samples))\n",
    "S1 = np.copy(S)\n",
    "S2 = np.copy(S)\n",
    "\n",
    "for ii in range(n_samples):\n",
    "    idxs = np.argsort(abs(S[:,ii]))[:-k]\n",
    "    S1[idxs, ii] = 0.\n",
    "\n",
    "    idxs = rng.permutation(source_dim)[:source_dim-k]\n",
    "    S2[idxs, ii] = 0."
   ]
  },
  {
   "cell_type": "code",
   "execution_count": 106,
   "metadata": {
    "collapsed": false
   },
   "outputs": [],
   "source": [
    "f, (ax1, ax2) = plt.subplots(2, 1, figsize=(10, 5))\n",
    "ax1.hist(S1.ravel(), bins=1000)\n",
    "ax1.set_yscale('log')\n",
    "ax2.hist(S2.ravel(), bins=1000)\n",
    "ax2.set_yscale('log')\n",
    "plt.show()"
   ]
  },
  {
   "cell_type": "code",
   "execution_count": null,
   "metadata": {
    "collapsed": true
   },
   "outputs": [],
   "source": []
  }
 ],
 "metadata": {
  "kernelspec": {
   "display_name": "Python 2",
   "language": "python",
   "name": "python2"
  },
  "language_info": {
   "codemirror_mode": {
    "name": "ipython",
    "version": 2
   },
   "file_extension": ".py",
   "mimetype": "text/x-python",
   "name": "python",
   "nbconvert_exporter": "python",
   "pygments_lexer": "ipython2",
   "version": "2.7.12"
  }
 },
 "nbformat": 4,
 "nbformat_minor": 0
}
