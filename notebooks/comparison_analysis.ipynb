{
 "cells": [
  {
   "cell_type": "code",
   "execution_count": 1,
   "metadata": {
    "collapsed": false
   },
   "outputs": [
    {
     "name": "stderr",
     "output_type": "stream",
     "text": [
      "Using gpu device 0: Tesla K40c (CNMeM is enabled with initial size: 20.0% of memory, cuDNN 4007)\n"
     ]
    },
    {
     "data": {
      "text/plain": [
       "<module 'oc_ica.analysis' from '/home/jesse/Development/oc_ica/oc_ica/analysis.pyc'>"
      ]
     },
     "execution_count": 1,
     "metadata": {},
     "output_type": "execute_result"
    }
   ],
   "source": [
    "from __future__ import division\n",
    "import matplotlib.pyplot as plt\n",
    "import numpy as np\n",
    "import cPickle, h5py, os, glob\n",
    "\n",
    "from oc_ica import analysis\n",
    "reload(analysis)"
   ]
  },
  {
   "cell_type": "markdown",
   "metadata": {},
   "source": [
    "# HDF5 Storage"
   ]
  },
  {
   "cell_type": "code",
   "execution_count": 2,
   "metadata": {
    "collapsed": true
   },
   "outputs": [],
   "source": [
    "base_folder = '/home/jesse/Development/results/oc_ica/'\n",
    "n_iter = 10"
   ]
  },
  {
   "cell_type": "code",
   "execution_count": 11,
   "metadata": {
    "collapsed": false
   },
   "outputs": [
    {
     "name": "stdout",
     "output_type": "stream",
     "text": [
      "32 48 1.5 2\n",
      "a_array-32_OC-1.5_priors-L2_L4_COULOMB_RANDOM_COHERENCE_COULOMB_F_RANDOM_F.h5\n",
      "comparison_mixtures-32_sources-48_k-2\n",
      "['2', '3', '4', 'COHERENCE_SOFT', 'COULOMB', 'COULOMB_F', 'RANDOM', 'RANDOM_F', 'SC', 'SC_SOFT', 'SM']\n"
     ]
    }
   ],
   "source": [
    "n_mixtures = 32\n",
    "OC = '1.5'\n",
    "k = 2\n",
    "n_sources = int(n_mixtures * float(OC))\n",
    "print n_mixtures, n_sources, OC, k\n",
    "fit_folder = 'comparison_mixtures-{}_sources-{}_k-{}'.format(n_mixtures, n_sources, k)\n",
    "a_file = 'a_array-{}_OC-{}_priors-L2_L4_COULOMB_RANDOM_COHERENCE_COULOMB_F_RANDOM_F.h5'.format(n_mixtures, OC)\n",
    "print a_file\n",
    "print fit_folder\n",
    "fit_files = sorted(glob.glob(os.path.join(base_folder, fit_folder, '*.h5')))\n",
    "sc_fits = None\n",
    "models = [f.split('.')[-2].split('-')[-1] for f in fit_files]\n",
    "print models"
   ]
  },
  {
   "cell_type": "markdown",
   "metadata": {},
   "source": [
    "## Continue"
   ]
  },
  {
   "cell_type": "code",
   "execution_count": 12,
   "metadata": {
    "collapsed": false
   },
   "outputs": [],
   "source": [
    "with h5py.File(os.path.join(base_folder, a_file), 'r') as f:\n",
    "    A_array = f['A_array'].value\n",
    "    A_priors = f['A_priors'].value"
   ]
  },
  {
   "cell_type": "code",
   "execution_count": 13,
   "metadata": {
    "collapsed": false
   },
   "outputs": [],
   "source": [
    "all_colors = ['black', 'blue', 'red', 'green', 'purple', 'cyan']\n",
    "seq_ftms = ['-', ':', '-.']\n",
    "ver_ftms = ['-', '--']\n",
    "model_color = {}\n",
    "model_fmt = {}\n",
    "color_idx = 1\n",
    "int_idx = 0\n",
    "for model in models:\n",
    "    base_model = model.split('_')[0]\n",
    "    if base_model.isdigit():\n",
    "        model_color[model] = all_colors[0]\n",
    "        model_fmt[model] = seq_ftms[int_idx]\n",
    "        int_idx += 1\n",
    "    elif '_' in model:\n",
    "        if base_model in model_color.keys():\n",
    "            model_color[model] = model_color[base_model]\n",
    "            model_fmt[model] = ver_ftms[1]\n",
    "        else:\n",
    "            model_color[model] = all_colors[color_idx]\n",
    "            model_fmt[model] = ver_ftms[0]\n",
    "            color_idx += 1\n",
    "    else:\n",
    "        if model in [m.split('_')[0] for m in model_color.keys()]:\n",
    "            eqiv = [m for m in model_color.keys() if model == m.split('_')[0]][0]\n",
    "        else:\n",
    "            model_color[model] = all_colors[color_idx]\n",
    "            model_fmt[model] = ver_ftms[0]\n",
    "            color_idx += 1"
   ]
  },
  {
   "cell_type": "code",
   "execution_count": 14,
   "metadata": {
    "collapsed": false
   },
   "outputs": [],
   "source": [
    "with h5py.File(os.path.join(base_folder, fit_folder, fit_files[0]), 'r') as f:\n",
    "    lambdas = f['lambdas'].value\n",
    "n_mixtures, n_sources = A_array.shape[2:]\n",
    "n_iter = A_array.shape[1]"
   ]
  },
  {
   "cell_type": "code",
   "execution_count": 15,
   "metadata": {
    "collapsed": false
   },
   "outputs": [],
   "source": [
    "W_fits = np.full((len(A_priors), len(models), lambdas.size, n_iter, n_sources, n_mixtures),\n",
    "                 np.nan, dtype='float32')\n",
    "results = np.full((len(A_priors), len(models), lambdas.size, n_iter, 2),\n",
    "                  np.nan, dtype='float32')\n",
    "null_results = np.full((len(A_priors), len(models), lambdas.size, (n_iter**2-n_iter)//2, 2),\n",
    "                  np.nan, dtype='float32')"
   ]
  },
  {
   "cell_type": "code",
   "execution_count": 16,
   "metadata": {
    "collapsed": false
   },
   "outputs": [],
   "source": [
    "for ii, f_name in enumerate(fit_files):\n",
    "    with h5py.File(os.path.join(base_folder, fit_folder, f_name), 'r') as f:\n",
    "        W_fits[:, ii] = np.squeeze(f['W_fits'])[:, :, :n_iter]\n",
    "\n",
    "if sc_fits is not None:\n",
    "    loc = 0\n",
    "    for ii, f_name in enumerate(sc_fits):\n",
    "        with h5py.File(os.path.join(base_folder, fit_folder, f_name), 'r') as f:\n",
    "            n_lambdas = f['W_fits'].shape[2]\n",
    "            W_fits[:, -1, loc:loc+n_lambdas, :10] = np.squeeze(f['W_fits'])[:, :, :n_iter]\n",
    "            loc += n_lambdas"
   ]
  },
  {
   "cell_type": "code",
   "execution_count": 17,
   "metadata": {
    "collapsed": false,
    "scrolled": true
   },
   "outputs": [],
   "source": [
    "reload(analysis)\n",
    "for ii, p in enumerate(A_priors):\n",
    "    for jj, m in enumerate(models):\n",
    "        for kk, l in enumerate(lambdas):\n",
    "            for ll in range(n_iter):\n",
    "                try:\n",
    "                    A = A_array[ii, ll]\n",
    "                    W = W_fits[ii, jj, kk, ll]\n",
    "                    assert (not np.isnan(A.sum())) and (not np.isnan(W.sum()))\n",
    "                    results[ii, jj, kk, ll] = analysis.recovery_statistics_AW(A, W)\n",
    "                    #results[ii, jj, kk, ll] = [hd, pd, mod]\n",
    "                    #max_angles[ii, jj, kk, ll] = ma\n",
    "                    #other_angles[ii, jj, kk, ll] = oa\n",
    "                except (ValueError, AssertionError):\n",
    "                    pass"
   ]
  },
  {
   "cell_type": "code",
   "execution_count": 18,
   "metadata": {
    "collapsed": false
   },
   "outputs": [],
   "source": [
    "n_metrics = 2\n",
    "f, axes = plt.subplots(len(A_priors), n_metrics, figsize=(4*n_metrics, 3*len(A_priors)))\n",
    "f.suptitle('n_mixtures: {} \\nn_sources: {} k: {}'.format(n_mixtures, n_sources, k),\n",
    "           y=1., fontsize=12)\n",
    "for ii, (p, a) in enumerate(zip(A_priors, axes)):\n",
    "    (ae, am) = a\n",
    "    for jj, m in enumerate(models):\n",
    "        fmt = model_fmt[m]\n",
    "        color = model_color[m]\n",
    "        if ii == 0:\n",
    "            label = str(m)\n",
    "            if label != 'SC':\n",
    "                label = label.title()\n",
    "            label = label.replace('_Redo', '')\n",
    "        else:\n",
    "            label = None\n",
    "        if m == 'SM':\n",
    "            delta = np.tile(np.nanmean(results[ii, jj, 0, :, 0]), lambdas.size)\n",
    "            mma = np.tile(np.nanmean(results[ii, jj, 0, :, 1]), lambdas.size)\n",
    "        else:\n",
    "            delta = np.nanmean(results[ii, jj, :, :, 0], axis=1)\n",
    "            mma = np.nanmean(results[ii, jj, :, :, 1], axis=1)\n",
    "        \n",
    "        ae.semilogx(lambdas, delta, fmt, label=label, c=color)\n",
    "        ae.semilogx(lambdas, delta, '.', c=color)\n",
    "        ae.minorticks_off()\n",
    "        am.semilogx(lambdas, mma, fmt, label=label, c=color)\n",
    "        am.semilogx(lambdas, mma, '.', c=color)\n",
    "        am.minorticks_off()\n",
    "    ae.legend(loc='upper right', ncol=2, prop={'size': 8})\n",
    "\n",
    "    ae.set_title(p)\n",
    "    ae.set_ylabel(r'$\\Delta P$')\n",
    "    ae.set_ylim([0, np.nanmax(results[...,0])])\n",
    "    am.set_title(p)\n",
    "    am.set_ylabel(r'Median of $p_{\\mathrm{min}}$')\n",
    "    am.set_ylim([0, 80])\n",
    "    \n",
    "ae.set_xlabel(r'$\\lambda$')\n",
    "am.set_xlabel(r'$\\lambda$')\n",
    "\n",
    "\n",
    "f.tight_layout()\n",
    "plt.savefig('model_fit_comparison-n_mixtures{}-n_sources{}-k{}.pdf'.format(n_mixtures, n_sources, k))\n",
    "plt.show()\n",
    "plt.close()"
   ]
  },
  {
   "cell_type": "code",
   "execution_count": 12,
   "metadata": {
    "collapsed": false
   },
   "outputs": [],
   "source": [
    "for ii, p in enumerate(A_priors):\n",
    "    for jj, m in enumerate(models):\n",
    "        for kk, l in enumerate(lambdas):\n",
    "            loc = 0\n",
    "            for ll in range(n_iter):\n",
    "                for mm in range(ll+1, n_iter):\n",
    "                    try:\n",
    "                        A = A_array[ii, ll]\n",
    "                        W = W_fits[ii, jj, kk, mm]\n",
    "                        assert (not np.isnan(A.sum())) and (not np.isnan(W.sum()))\n",
    "                        null_results[ii, jj, kk, loc] = analysis.recovery_statistics_AW(A, W)\n",
    "                        loc += 1\n",
    "                    except (ValueError, AssertionError):\n",
    "                        pass"
   ]
  },
  {
   "cell_type": "code",
   "execution_count": 52,
   "metadata": {
    "collapsed": false
   },
   "outputs": [],
   "source": [
    "n_metrics = 2\n",
    "f, axes = plt.subplots(len(A_priors), n_metrics, figsize=(4*n_metrics, 3*len(A_priors)))\n",
    "for ii, (p, a) in enumerate(zip(A_priors, axes)):\n",
    "    (ae, am) = a\n",
    "    for jj, m in enumerate(models):\n",
    "        fmt = model_fmt[m]\n",
    "        color = model_color[m]\n",
    "        if ii == 0:\n",
    "            label = str(m)\n",
    "            if label != 'SC':\n",
    "                label = label.title()\n",
    "            label = label.replace('_Redo', '')\n",
    "        else:\n",
    "            label = None\n",
    "        delta = np.nanmean(null_results[ii, jj, :, :, 0], axis=1)\n",
    "        mma = np.nanmean(null_results[ii, jj, :, :, 1], axis=1)\n",
    "\n",
    "        ae.semilogx(lambdas, delta, fmt, label=label, c=color)\n",
    "        ae.semilogx(lambdas, delta, '.', c=color)\n",
    "        ae.minorticks_off()\n",
    "\n",
    "        am.semilogx(lambdas, mma, fmt, label=label, c=color)\n",
    "        am.semilogx(lambdas, mma, '.', c=color)\n",
    "        am.minorticks_off()\n",
    "\n",
    "    ae.legend(loc='upper right', ncol=2, prop={'size': 8})\n",
    "\n",
    "    ae.set_title(p)\n",
    "    ae.set_ylabel(r'$\\Delta P$')\n",
    "    ae.set_ylim([0, np.nanmax(results[...,0])])\n",
    "    am.set_title(p)\n",
    "    am.set_ylabel(r'Median of $p_{\\mathrm{min}}$')\n",
    "    am.set_ylim([0, 80])\n",
    "    \n",
    "ae.set_xlabel(r'$\\lambda$')\n",
    "am.set_xlabel(r'$\\lambda$')\n",
    "\n",
    "\n",
    "f.tight_layout()\n",
    "#plt.savefig('null_model_fit_comparison.pdf')\n",
    "plt.show()\n",
    "plt.close()"
   ]
  },
  {
   "cell_type": "code",
   "execution_count": 39,
   "metadata": {
    "collapsed": true
   },
   "outputs": [],
   "source": [
    "import matplotlib"
   ]
  },
  {
   "cell_type": "code",
   "execution_count": 56,
   "metadata": {
    "collapsed": false
   },
   "outputs": [],
   "source": [
    "n_metrics = 2\n",
    "colors = [plt.get_cmap('viridis')(x) for x in np.linspace(0, 1, 5)] + ['black']\n",
    "switch = [0, 9, 4, 9, 2, 9, 3, 9, 5]\n",
    "fmts = ['-', '-', '-', '-', '-', '-', '-', '-', '-', '-']\n",
    "f, axes = plt.subplots(1, n_metrics, figsize=(4*2, 3*1))\n",
    "axes = [axes]\n",
    "for ii, (p, a) in enumerate(zip(A_priors, axes)):\n",
    "    (ae, am) = a\n",
    "    for jj, m in enumerate(models):\n",
    "        if jj in [0, 2, 4, 6, 8]:\n",
    "            if ii == 0:\n",
    "                label = str(m)\n",
    "                if label != 'SC':\n",
    "                    label = label.title()\n",
    "                label = label.replace('_Redo', '')\n",
    "                if label == '2':\n",
    "                    label = r'$L_2$'\n",
    "                if label == '4':\n",
    "                    label = r'$L_4$'\n",
    "                if label == 'Random':\n",
    "                    label = 'Rand. Prior'\n",
    "            else:\n",
    "                label = None\n",
    "\n",
    "            delta = delta = np.nanmean(results[ii, jj, :, :, 0], axis=1)\n",
    "            mma = np.nanmean(results[ii, jj, :, :, 1], axis=1)\n",
    "            ae.semilogx(lambdas, delta, fmts[jj], label=label, c=colors[switch[jj]], lw=1.5)\n",
    "            ae.semilogx(lambdas, delta, '.', c=colors[switch[jj]])\n",
    "            ae.minorticks_off()\n",
    "            am.semilogx(lambdas, mma, fmts[jj], label=label, c=colors[switch[jj]], lw=1.5)\n",
    "            am.semilogx(lambdas, mma, '.', c=colors[switch[jj]])\n",
    "            am.minorticks_off()\n",
    "        ae.legend(loc='upper right', ncol=2, prop={'size': 8}, frameon=False)\n",
    "\n",
    "        ae.set_ylabel(r'$\\Delta P$')\n",
    "        ae.set_ylim([0, np.nanmax(results[...,0])])\n",
    "        am.set_ylabel(r'Median of $p_{\\mathrm{min}}$')\n",
    "        am.set_ylim([0, 80])\n",
    "    \n",
    "ae.set_xlabel(r'$\\lambda$')\n",
    "am.set_xlabel(r'$\\lambda$')\n",
    "\n",
    "\n",
    "f.tight_layout()\n",
    "plt.savefig('model_fit_comparison-n_mixtures{}-n_sources{}-k{}.pdf'.format(n_mixtures, n_sources, k))\n",
    "plt.show()\n",
    "plt.close()"
   ]
  },
  {
   "cell_type": "code",
   "execution_count": 19,
   "metadata": {
    "collapsed": false
   },
   "outputs": [
    {
     "data": {
      "text/plain": [
       "array([ 54.,  nan,  nan,  nan,  nan,  nan,  nan,  nan,  nan,  nan,  nan,\n",
       "        nan,  nan,  nan,  nan,  nan,  nan], dtype=float32)"
      ]
     },
     "execution_count": 19,
     "metadata": {},
     "output_type": "execute_result"
    }
   ],
   "source": [
    "results[0, -1, :, 0, 0]"
   ]
  },
  {
   "cell_type": "code",
   "execution_count": null,
   "metadata": {
    "collapsed": true
   },
   "outputs": [],
   "source": []
  }
 ],
 "metadata": {
  "kernelspec": {
   "display_name": "Python 2",
   "language": "python",
   "name": "python2"
  },
  "language_info": {
   "codemirror_mode": {
    "name": "ipython",
    "version": 2
   },
   "file_extension": ".py",
   "mimetype": "text/x-python",
   "name": "python",
   "nbconvert_exporter": "python",
   "pygments_lexer": "ipython2",
   "version": "2.7.12"
  }
 },
 "nbformat": 4,
 "nbformat_minor": 0
}
