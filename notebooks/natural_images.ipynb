{
 "cells": [
  {
   "cell_type": "code",
   "execution_count": 1,
   "metadata": {
    "collapsed": false
   },
   "outputs": [],
   "source": [
    "import glob, h5py, os\n",
    "import numpy as np\n",
    "import matplotlib.pyplot as plt\n",
    "\n",
    "from oc_ica import gabor_fit, plotting"
   ]
  },
  {
   "cell_type": "code",
   "execution_count": 2,
   "metadata": {
    "collapsed": false
   },
   "outputs": [
    {
     "name": "stdout",
     "output_type": "stream",
     "text": [
      "['/home/jesse/Development/results/oc_ica/nat_images_mixtures-64_sources-128/nat_images_mixtures-64_sources-128_models-2.h5', '/home/jesse/Development/results/oc_ica/nat_images_mixtures-64_sources-128/nat_images_mixtures-64_sources-128_models-3.h5', '/home/jesse/Development/results/oc_ica/nat_images_mixtures-64_sources-128/nat_images_mixtures-64_sources-128_models-4.h5', '/home/jesse/Development/results/oc_ica/nat_images_mixtures-64_sources-128/nat_images_mixtures-64_sources-128_models-COHERENCE_SOFT.h5', '/home/jesse/Development/results/oc_ica/nat_images_mixtures-64_sources-128/nat_images_mixtures-64_sources-128_models-COULOMB.h5', '/home/jesse/Development/results/oc_ica/nat_images_mixtures-64_sources-128/nat_images_mixtures-64_sources-128_models-COULOMB_F.h5', '/home/jesse/Development/results/oc_ica/nat_images_mixtures-64_sources-128/nat_images_mixtures-64_sources-128_models-RANDOM.h5', '/home/jesse/Development/results/oc_ica/nat_images_mixtures-64_sources-128/nat_images_mixtures-64_sources-128_models-RANDOM_F.h5']\n",
      "['2', '3', '4', 'COHERENCE_SOFT', 'COULOMB', 'COULOMB_F', 'RANDOM', 'RANDOM_F']\n"
     ]
    }
   ],
   "source": [
    "folder = '/home/jesse/Development/results/oc_ica/nat_images_mixtures-64_sources-128/'\n",
    "files = sorted(glob.glob(os.path.join(folder, '*.h5')))\n",
    "models = [f.split('.')[0].split('-')[-1] for f in files]\n",
    "n_mixtures = int(folder.split('-')[-2].split('_')[0])\n",
    "n_sources = int(folder.split('-')[-1].split('_')[0][:-1])\n",
    "print(files)\n",
    "print(models)"
   ]
  },
  {
   "cell_type": "code",
   "execution_count": 3,
   "metadata": {
    "collapsed": false
   },
   "outputs": [],
   "source": [
    "ws = np.full((len(models), n_sources, n_mixtures), np.nan)\n",
    "for ii, fname in enumerate(files):\n",
    "    with h5py.File(fname) as f:\n",
    "        ws[ii] = f['W_fits'].value"
   ]
  },
  {
   "cell_type": "code",
   "execution_count": 4,
   "metadata": {
    "collapsed": false
   },
   "outputs": [],
   "source": [
    "params = plotting.get_Gabor_params(ws)"
   ]
  },
  {
   "cell_type": "code",
   "execution_count": 58,
   "metadata": {
    "collapsed": false
   },
   "outputs": [],
   "source": [
    "reload(plotting)\n",
    "plotting.plot_GaborFit_xy(params[0][1], int(np.sqrt(n_mixtures)))\n",
    "plotting.plot_GaborFit_polar(params[0][1])\n",
    "plotting.plot_GaborFit_envelope(params[0][1])\n",
    "plt.show()"
   ]
  },
  {
   "cell_type": "code",
   "execution_count": 51,
   "metadata": {
    "collapsed": true
   },
   "outputs": [],
   "source": [
    "fitter = gabor_fit.GaborFit()"
   ]
  },
  {
   "cell_type": "code",
   "execution_count": 74,
   "metadata": {
    "collapsed": false
   },
   "outputs": [],
   "source": [
    "reload(plotting)\n",
    "plotting.plot_bases(ws[0])\n",
    "wp = fitter.make_gabor(params[0][0][-1], 8, 8).T\n",
    "wp = wp.reshape(wp.shape[0], -1)\n",
    "plotting.plot_bases(wp)\n",
    "plt.show()"
   ]
  },
  {
   "cell_type": "code",
   "execution_count": 67,
   "metadata": {
    "collapsed": false
   },
   "outputs": [
    {
     "ename": "ValueError",
     "evalue": "total size of new array must be unchanged",
     "output_type": "error",
     "traceback": [
      "\u001b[1;31m---------------------------------------------------------------------------\u001b[0m",
      "\u001b[1;31mValueError\u001b[0m                                Traceback (most recent call last)",
      "\u001b[1;32m<ipython-input-67-02350d657c97>\u001b[0m in \u001b[0;36m<module>\u001b[1;34m()\u001b[0m\n\u001b[1;32m----> 1\u001b[1;33m \u001b[0mplotting\u001b[0m\u001b[1;33m.\u001b[0m\u001b[0mplot_bases\u001b[0m\u001b[1;33m(\u001b[0m\u001b[0mfitter\u001b[0m\u001b[1;33m.\u001b[0m\u001b[0mmake_gabor\u001b[0m\u001b[1;33m(\u001b[0m\u001b[0mparams\u001b[0m\u001b[1;33m[\u001b[0m\u001b[1;36m0\u001b[0m\u001b[1;33m]\u001b[0m\u001b[1;33m[\u001b[0m\u001b[1;36m0\u001b[0m\u001b[1;33m]\u001b[0m\u001b[1;33m[\u001b[0m\u001b[1;33m-\u001b[0m\u001b[1;36m1\u001b[0m\u001b[1;33m]\u001b[0m\u001b[1;33m,\u001b[0m \u001b[1;36m8\u001b[0m\u001b[1;33m,\u001b[0m \u001b[1;36m8\u001b[0m\u001b[1;33m)\u001b[0m\u001b[1;33m)\u001b[0m\u001b[1;33m\u001b[0m\u001b[0m\n\u001b[0m",
      "\u001b[1;32m/home/jesse/Development/oc_ica/oc_ica/plotting.pyc\u001b[0m in \u001b[0;36mplot_bases\u001b[1;34m(bases, save_path, scale_rows)\u001b[0m\n\u001b[0;32m    472\u001b[0m     im = tri(bases,(n_pixels,n_pixels),(n_bases,n_bases),\n\u001b[0;32m    473\u001b[0m                 \u001b[1;33m(\u001b[0m\u001b[1;36m2\u001b[0m\u001b[1;33m,\u001b[0m\u001b[1;36m2\u001b[0m\u001b[1;33m)\u001b[0m\u001b[1;33m,\u001b[0m \u001b[0mscale_rows_to_unit_interval\u001b[0m\u001b[1;33m=\u001b[0m\u001b[0mscale_rows\u001b[0m\u001b[1;33m,\u001b[0m\u001b[1;33m\u001b[0m\u001b[0m\n\u001b[1;32m--> 474\u001b[1;33m                 output_pixel_vals=False)\n\u001b[0m\u001b[0;32m    475\u001b[0m     \u001b[0max\u001b[0m\u001b[1;33m.\u001b[0m\u001b[0mimshow\u001b[0m\u001b[1;33m(\u001b[0m\u001b[0mim\u001b[0m\u001b[1;33m,\u001b[0m\u001b[0maspect\u001b[0m\u001b[1;33m=\u001b[0m\u001b[1;34m'auto'\u001b[0m\u001b[1;33m,\u001b[0m \u001b[0minterpolation\u001b[0m\u001b[1;33m=\u001b[0m\u001b[1;34m'nearest'\u001b[0m\u001b[1;33m,\u001b[0m \u001b[0mcmap\u001b[0m\u001b[1;33m=\u001b[0m\u001b[1;34m'gray'\u001b[0m\u001b[1;33m)\u001b[0m\u001b[1;33m\u001b[0m\u001b[0m\n\u001b[0;32m    476\u001b[0m     \u001b[0max\u001b[0m\u001b[1;33m.\u001b[0m\u001b[0mset_axis_off\u001b[0m\u001b[1;33m(\u001b[0m\u001b[1;33m)\u001b[0m\u001b[1;33m\u001b[0m\u001b[0m\n",
      "\u001b[1;32m/home/jesse/Development/oc_ica/oc_ica/utils.pyc\u001b[0m in \u001b[0;36mtile_raster_images\u001b[1;34m(X, img_shape, tile_shape, tile_spacing, scale_rows_to_unit_interval, output_pixel_vals)\u001b[0m\n\u001b[0;32m    125\u001b[0m                         \u001b[1;31m# function\u001b[0m\u001b[1;33m\u001b[0m\u001b[1;33m\u001b[0m\u001b[0m\n\u001b[0;32m    126\u001b[0m                         this_img = scale_to_unit_interval(\n\u001b[1;32m--> 127\u001b[1;33m                             this_x.reshape(img_shape))\n\u001b[0m\u001b[0;32m    128\u001b[0m                     \u001b[1;32melse\u001b[0m\u001b[1;33m:\u001b[0m\u001b[1;33m\u001b[0m\u001b[0m\n\u001b[0;32m    129\u001b[0m                         \u001b[0mthis_img\u001b[0m \u001b[1;33m=\u001b[0m \u001b[0mthis_x\u001b[0m\u001b[1;33m.\u001b[0m\u001b[0mreshape\u001b[0m\u001b[1;33m(\u001b[0m\u001b[0mimg_shape\u001b[0m\u001b[1;33m)\u001b[0m\u001b[1;33m\u001b[0m\u001b[0m\n",
      "\u001b[1;31mValueError\u001b[0m: total size of new array must be unchanged"
     ]
    }
   ],
   "source": []
  },
  {
   "cell_type": "code",
   "execution_count": 68,
   "metadata": {
    "collapsed": false
   },
   "outputs": [
    {
     "data": {
      "text/plain": [
       "(8, 8, 128)"
      ]
     },
     "execution_count": 68,
     "metadata": {},
     "output_type": "execute_result"
    }
   ],
   "source": [
    "fitter.make_gabor(params[0][0][-1], 8, 8).shape"
   ]
  },
  {
   "cell_type": "code",
   "execution_count": null,
   "metadata": {
    "collapsed": true
   },
   "outputs": [],
   "source": []
  }
 ],
 "metadata": {
  "kernelspec": {
   "display_name": "Python 2",
   "language": "python",
   "name": "python2"
  },
  "language_info": {
   "codemirror_mode": {
    "name": "ipython",
    "version": 2
   },
   "file_extension": ".py",
   "mimetype": "text/x-python",
   "name": "python",
   "nbconvert_exporter": "python",
   "pygments_lexer": "ipython2",
   "version": "2.7.12"
  }
 },
 "nbformat": 4,
 "nbformat_minor": 0
}
