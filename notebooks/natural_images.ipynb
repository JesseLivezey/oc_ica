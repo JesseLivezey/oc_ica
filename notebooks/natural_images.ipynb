{
 "cells": [
  {
   "cell_type": "code",
   "execution_count": 1,
   "metadata": {},
   "outputs": [
    {
     "name": "stderr",
     "output_type": "stream",
     "text": [
      "/home/jesse/anaconda3/envs/python27/lib/python2.7/site-packages/h5py/__init__.py:36: FutureWarning: Conversion of the second argument of issubdtype from `float` to `np.floating` is deprecated. In future, it will be treated as `np.float64 == np.dtype(float).type`.\n",
      "  from ._conv import register_converters as _register_converters\n"
     ]
    }
   ],
   "source": [
    "import cPickle, glob, h5py, os, string, matplotlib\n",
    "#matplotlib.use('Agg')\n",
    "import numpy as np\n",
    "import matplotlib.pyplot as plt\n",
    "from imp import reload\n",
    "\n",
    "from oc_ica import gabor_fit, plotting, analysis, styles"
   ]
  },
  {
   "cell_type": "code",
   "execution_count": 2,
   "metadata": {},
   "outputs": [
    {
     "name": "stdout",
     "output_type": "stream",
     "text": [
      "['2', '4', 'COULOMB', 'COULOMB_F', 'RANDOM', 'RANDOM_F', 'SM']\n"
     ]
    }
   ],
   "source": [
    "folder = '/home/jesse/Development/results/oc_ica/nat_images_mixtures-64_sources-128'\n",
    "files = sorted(glob.glob(os.path.join(folder, '*.h5')))\n",
    "models = [f.split('.')[0].split('-')[-1] for f in files]\n",
    "n_mixtures = int(folder.split('-')[-2].split('_')[0])\n",
    "n_sources = int(folder.split('-')[-1].split('_')[0])\n",
    "print(models)"
   ]
  },
  {
   "cell_type": "code",
   "execution_count": 3,
   "metadata": {
    "scrolled": false
   },
   "outputs": [],
   "source": [
    "ws = np.full((len(models), 50, n_sources, n_mixtures), np.nan)\n",
    "for ii, fname in enumerate(files):\n",
    "    with h5py.File(fname) as f:\n",
    "        ws[ii] = np.squeeze(f['W_fits'].value)"
   ]
  },
  {
   "cell_type": "code",
   "execution_count": 12,
   "metadata": {},
   "outputs": [],
   "source": [
    "params = plotting.get_Gabor_params(ws[:, 0])\n",
    "with open(os.path.basename(folder)+'.pkl', 'w') as f:\n",
    "    cPickle.dump(params, f)"
   ]
  },
  {
   "cell_type": "code",
   "execution_count": 5,
   "metadata": {},
   "outputs": [],
   "source": [
    "with open(os.path.basename(folder)+'.pkl', 'r') as f:\n",
    "    params = cPickle.load(f)"
   ]
  },
  {
   "cell_type": "code",
   "execution_count": 24,
   "metadata": {},
   "outputs": [],
   "source": [
    "rng = np.random.RandomState(2017)\n",
    "ws_null = ws[:, 0].copy()\n",
    "\n",
    "for ii in range(ws_null.shape[0]):\n",
    "    for jj in range(ws_null.shape[2]):\n",
    "        order = rng.permutation(ws_null.shape[1])\n",
    "        ws_null[ii, :, jj] = ws_null[ii, :, jj][order]\n",
    "    ws_null[ii] = ws_null[ii]/np.linalg.norm(ws_null[ii], axis=1, keepdims=True)\n",
    "params_null = plotting.get_Gabor_params(ws_null)"
   ]
  },
  {
   "cell_type": "code",
   "execution_count": 88,
   "metadata": {},
   "outputs": [],
   "source": [
    "n_mixtures = 64"
   ]
  },
  {
   "cell_type": "code",
   "execution_count": 13,
   "metadata": {},
   "outputs": [
    {
     "data": {
      "text/plain": [
       "(7, 50, 128, 64)"
      ]
     },
     "execution_count": 13,
     "metadata": {},
     "output_type": "execute_result"
    }
   ],
   "source": [
    "ws.shape"
   ]
  },
  {
   "cell_type": "code",
   "execution_count": 6,
   "metadata": {},
   "outputs": [
    {
     "name": "stdout",
     "output_type": "stream",
     "text": [
      "(0.33476394849785407, 0.775, 0.2594420600858369)\n",
      "(4, 3, 4)\n",
      "(4, 3, 7)\n",
      "(4, 3, 10)\n",
      "(4, 3, 5)\n",
      "(4, 3, 8)\n",
      "(4, 3, 11)\n",
      "(4, 3, 6)\n",
      "(4, 3, 9)\n",
      "(4, 3, 12)\n"
     ]
    }
   ],
   "source": [
    "reload(plotting)\n",
    "n = 0\n",
    "idxs = [0, 1, 3]\n",
    "modelsp = [models[ii] for ii in idxs]\n",
    "f = plt.figure(figsize=((5./3)*len(modelsp), 7))\n",
    "height_by_width = float(8 * 8 + 7 * 2) / float(16 * 8 + 7 * 15)\n",
    "width = 1. - .225\n",
    "height = height_by_width * width\n",
    "print(height_by_width, width, height)\n",
    "ax = f.add_axes([.1125, .725, width, height])\n",
    "\n",
    "plotting.plot_bases(ws[4, 0], (f, ax))\n",
    "for ii, m in zip(idxs, modelsp):\n",
    "    labelx = True\n",
    "    if n//3 == 0:\n",
    "        labely = True\n",
    "    else:\n",
    "        labely = False\n",
    "    pos = (4, len(modelsp), 3+n//len(modelsp)+1)\n",
    "    plotting.plot_GaborFit_xy(params[ii][1], int(np.sqrt(n_mixtures)), m, f=f, pos=pos,\n",
    "                              labelx=labelx, labely=labely)\n",
    "    print pos\n",
    "    n += 1\n",
    "    pos = (4, len(modelsp), 3+n//len(modelsp)+4)\n",
    "    plotting.plot_GaborFit_polar(params[ii][1], m, f=f, pos=pos,\n",
    "                                 labelx=labelx, labely=False)\n",
    "    print pos\n",
    "    n += 1\n",
    "    pos = (4, len(modelsp), 3+n//len(modelsp)+7)\n",
    "    plotting.plot_GaborFit_envelope(params[ii][1], m, f=f, pos=pos,\n",
    "                                    labelx=labelx, labely=labely)\n",
    "    print pos\n",
    "    n += 1\n",
    "x = .05\n",
    "f.text(x, .975, 'A', fontsize=styles.letter_fontsize)\n",
    "f.text(x, .675, 'B', fontsize=styles.letter_fontsize)\n",
    "f.text(x, .45, 'C', fontsize=styles.letter_fontsize)\n",
    "f.text(x, .285, 'D', fontsize=styles.letter_fontsize)\n",
    "f.text(x, .4, 'planar\\nrotation', rotation='vertical', fontsize=styles.label_fontsize)\n",
    "#plt.tight_layout()\n",
    "plt.savefig('/home/jesse/Downloads/figure6.pdf')\n",
    "#plt.show()\n",
    "plt.close()"
   ]
  },
  {
   "cell_type": "code",
   "execution_count": 7,
   "metadata": {},
   "outputs": [
    {
     "data": {
      "image/png": "[encoded data removed]",
      "text/plain": [
       "<Figure size 360x360 with 3 Axes>"
      ]
     },
     "metadata": {},
     "output_type": "display_data"
    }
   ],
   "source": [
    "reload(plotting)\n",
    "idxs1 = [6, 4, 2, 0, 1]\n",
    "idxs2 = [1, 4, 5, 2, 3]\n",
    "idxs3 = [6, 4, 2, 0, 1, 5, 3]\n",
    "plotting.plot_figure4(ws[idxs1], [models[ii] for ii in idxs1],\n",
    "                      ws[idxs2], [models[ii] for ii in idxs2],\n",
    "                      ws[idxs3], [models[ii] for ii in idxs3],\n",
    "                      save_path='/home/jesse/Downloads/figure5.pdf')"
   ]
  },
  {
   "cell_type": "code",
   "execution_count": 26,
   "metadata": {},
   "outputs": [],
   "source": [
    "f, (ax1, ax2) = plt.subplots(2, 1, sharex=True)\n",
    "ax1.hist(np.sqrt(1./params[0][2]))\n",
    "ax1.set_title('data')\n",
    "\n",
    "ax2.hist(np.sqrt(1./params_null[0][2]))\n",
    "ax2.set_title('null')\n",
    "plt.show()"
   ]
  },
  {
   "cell_type": "code",
   "execution_count": 31,
   "metadata": {
    "collapsed": true
   },
   "outputs": [],
   "source": [
    "fitter = gabor_fit.GaborFit()"
   ]
  },
  {
   "cell_type": "code",
   "execution_count": 28,
   "metadata": {
    "collapsed": true
   },
   "outputs": [],
   "source": [
    "n = 0"
   ]
  },
  {
   "cell_type": "code",
   "execution_count": 29,
   "metadata": {},
   "outputs": [
    {
     "ename": "NameError",
     "evalue": "name 'fitter' is not defined",
     "output_type": "error",
     "traceback": [
      "\u001b[1;31m---------------------------------------------------------------------------\u001b[0m",
      "\u001b[1;31mNameError\u001b[0m                                 Traceback (most recent call last)",
      "\u001b[1;32m<ipython-input-29-61de95e9d672>\u001b[0m in \u001b[0;36m<module>\u001b[1;34m()\u001b[0m\n\u001b[0;32m      1\u001b[0m \u001b[0mreload\u001b[0m\u001b[1;33m(\u001b[0m\u001b[0mplotting\u001b[0m\u001b[1;33m)\u001b[0m\u001b[1;33m\u001b[0m\u001b[0m\n\u001b[0;32m      2\u001b[0m \u001b[0mplotting\u001b[0m\u001b[1;33m.\u001b[0m\u001b[0mplot_bases\u001b[0m\u001b[1;33m(\u001b[0m\u001b[0mws\u001b[0m\u001b[1;33m[\u001b[0m\u001b[0mn\u001b[0m\u001b[1;33m,\u001b[0m \u001b[1;36m0\u001b[0m\u001b[1;33m]\u001b[0m\u001b[1;33m)\u001b[0m\u001b[1;33m\u001b[0m\u001b[0m\n\u001b[1;32m----> 3\u001b[1;33m \u001b[0mwp\u001b[0m \u001b[1;33m=\u001b[0m \u001b[0mfitter\u001b[0m\u001b[1;33m.\u001b[0m\u001b[0mmake_gabor\u001b[0m\u001b[1;33m(\u001b[0m\u001b[0mparams\u001b[0m\u001b[1;33m[\u001b[0m\u001b[0mn\u001b[0m\u001b[1;33m]\u001b[0m\u001b[1;33m[\u001b[0m\u001b[1;36m0\u001b[0m\u001b[1;33m]\u001b[0m\u001b[1;33m[\u001b[0m\u001b[1;33m-\u001b[0m\u001b[1;36m1\u001b[0m\u001b[1;33m]\u001b[0m\u001b[1;33m,\u001b[0m \u001b[1;36m8\u001b[0m\u001b[1;33m,\u001b[0m \u001b[1;36m8\u001b[0m\u001b[1;33m)\u001b[0m\u001b[1;33m.\u001b[0m\u001b[0mT\u001b[0m\u001b[1;33m\u001b[0m\u001b[0m\n\u001b[0m\u001b[0;32m      4\u001b[0m \u001b[0mwp\u001b[0m \u001b[1;33m=\u001b[0m \u001b[0mwp\u001b[0m\u001b[1;33m.\u001b[0m\u001b[0mreshape\u001b[0m\u001b[1;33m(\u001b[0m\u001b[0mwp\u001b[0m\u001b[1;33m.\u001b[0m\u001b[0mshape\u001b[0m\u001b[1;33m[\u001b[0m\u001b[1;36m0\u001b[0m\u001b[1;33m]\u001b[0m\u001b[1;33m,\u001b[0m \u001b[1;33m-\u001b[0m\u001b[1;36m1\u001b[0m\u001b[1;33m)\u001b[0m\u001b[1;33m\u001b[0m\u001b[0m\n\u001b[0;32m      5\u001b[0m \u001b[0mplotting\u001b[0m\u001b[1;33m.\u001b[0m\u001b[0mplot_bases\u001b[0m\u001b[1;33m(\u001b[0m\u001b[0mwp\u001b[0m\u001b[1;33m)\u001b[0m\u001b[1;33m\u001b[0m\u001b[0m\n",
      "\u001b[1;31mNameError\u001b[0m: name 'fitter' is not defined"
     ]
    }
   ],
   "source": [
    "reload(plotting)\n",
    "plotting.plot_bases(ws[n, 0])\n",
    "wp = fitter.make_gabor(params[n][0][-1], 8, 8).T\n",
    "wp = wp.reshape(wp.shape[0], -1)\n",
    "plotting.plot_bases(wp)\n",
    "plt.show()"
   ]
  },
  {
   "cell_type": "code",
   "execution_count": 34,
   "metadata": {},
   "outputs": [],
   "source": [
    "reload(plotting)\n",
    "plotting.plot_bases(ws_null[n])\n",
    "wp = fitter.make_gabor(params_null[n][0][-1], 8, 8).T\n",
    "wp = wp.reshape(wp.shape[0], -1)\n",
    "plotting.plot_bases(wp)\n",
    "plt.show()"
   ]
  },
  {
   "cell_type": "markdown",
   "metadata": {
    "collapsed": true
   },
   "source": [
    "# Score Matching"
   ]
  },
  {
   "cell_type": "code",
   "execution_count": 12,
   "metadata": {},
   "outputs": [
    {
     "data": {
      "text/plain": [
       "<module 'oc_ica.models.ica' from '/home/jesse/Development/oc_ica/oc_ica/models/ica.pyc'>"
      ]
     },
     "execution_count": 12,
     "metadata": {},
     "output_type": "execute_result"
    }
   ],
   "source": [
    "import os, h5py\n",
    "import matplotlib.pyplot as plt\n",
    "import numpy as np\n",
    "from sklearn.feature_extraction import image\n",
    "\n",
    "from oc_ica.datasets import zca\n",
    "from oc_ica.utils import tile_raster_images as tri\n",
    "from oc_ica.models import sc, ica\n",
    "from oc_ica.plotting import plot_bases\n",
    "from oc_ica.sparsity_search import sparsity_search\n",
    "from oc_ica.optimizers.ica_optimizers import sgd, adam, momentum\n",
    "reload(sc)\n",
    "reload(ica)"
   ]
  },
  {
   "cell_type": "code",
   "execution_count": 13,
   "metadata": {},
   "outputs": [],
   "source": [
    "filename = os.path.join(os.environ['SCRATCH'],'data/vanhateren/images_curated.h5')\n",
    "key = 'van_hateren_good'\n",
    "\n",
    "with h5py.File(filename,'r') as f:\n",
    "    images = f[key].value"
   ]
  },
  {
   "cell_type": "code",
   "execution_count": 32,
   "metadata": {},
   "outputs": [],
   "source": [
    "patch_size = 8\n",
    "n_mixtures = patch_size**2\n",
    "total_samples = 100000\n",
    "rng = np.random.RandomState(20170125)\n",
    "patches = image.PatchExtractor(patch_size=(patch_size, patch_size),\n",
    "                               max_patches=total_samples//images.shape[0],\n",
    "                               random_state=rng).transform(images)\n",
    "X = patches.reshape((patches.shape[0],n_mixtures)).T\n",
    "X_mean = X.mean(axis=-1, keepdims=True)\n",
    "X -= X_mean\n",
    "X_zca, d, u = zca(X)"
   ]
  },
  {
   "cell_type": "code",
   "execution_count": 33,
   "metadata": {},
   "outputs": [
    {
     "name": "stdout",
     "output_type": "stream",
     "text": [
      "Degeneracy control: SM\n",
      "setup\n",
      "transform\n"
     ]
    }
   ],
   "source": [
    "OC = .75\n",
    "n_sources = int(n_mixtures * float(OC))\n",
    "model = ica.ICA(n_mixtures, n_sources, degeneracy='SM', lambd=0., rng=rng, norm_projection=True,\n",
    "                #optimizer='sgd', learning_rule=adam, verbose=True)\n",
    "                verbose=True)"
   ]
  },
  {
   "cell_type": "code",
   "execution_count": 34,
   "metadata": {
    "scrolled": true
   },
   "outputs": [
    {
     "name": "stdout",
     "output_type": "stream",
     "text": [
      "[array(-20.5378475189209, dtype=float32), array(-20.5378475189209, dtype=float32), array(0.0, dtype=float32), array(0.6628289222717285, dtype=float32)]\n",
      "Loss: -23.120256424, Error: -23.120256424, Penalty: 0.0, MSE: 0.532486915588\n",
      "Loss: -24.9580593109, Error: -24.9580593109, Penalty: 0.0, MSE: 0.423188567162\n",
      "Loss: -25.6826133728, Error: -25.6826133728, Penalty: 0.0, MSE: 0.385157138109\n",
      "Loss: -26.0141601562, Error: -26.0141601562, Penalty: 0.0, MSE: 0.368580043316\n",
      "Loss: -26.2121334076, Error: -26.2121334076, Penalty: 0.0, MSE: 0.361532837152\n",
      "Loss: -26.3592071533, Error: -26.3592071533, Penalty: 0.0, MSE: 0.367598444223\n",
      "Loss: -26.5059890747, Error: -26.5059890747, Penalty: 0.0, MSE: 0.379490226507\n",
      "Loss: -26.681842804, Error: -26.681842804, Penalty: 0.0, MSE: 0.407830774784\n",
      "Loss: -26.8911457062, Error: -26.8911457062, Penalty: 0.0, MSE: 0.392673134804\n",
      "Loss: -27.0122413635, Error: -27.0122413635, Penalty: 0.0, MSE: 0.392248541117\n",
      "Loss: -27.240776062, Error: -27.240776062, Penalty: 0.0, MSE: 0.398453295231\n",
      "Loss: -27.4209632874, Error: -27.4209632874, Penalty: 0.0, MSE: 0.401600509882\n",
      "Loss: -27.6063842773, Error: -27.6063842773, Penalty: 0.0, MSE: 0.402059882879\n",
      "Loss: -27.7746295929, Error: -27.7746295929, Penalty: 0.0, MSE: 0.400443702936\n",
      "Loss: -27.9345531464, Error: -27.9345531464, Penalty: 0.0, MSE: 0.401731789112\n",
      "Loss: -28.0867328644, Error: -28.0867328644, Penalty: 0.0, MSE: 0.405030429363\n",
      "Loss: -28.1878604889, Error: -28.1878604889, Penalty: 0.0, MSE: 0.404558539391\n",
      "Loss: -28.2584495544, Error: -28.2584495544, Penalty: 0.0, MSE: 0.403473645449\n",
      "Loss: -28.3475341797, Error: -28.3475341797, Penalty: 0.0, MSE: 0.404121786356\n",
      "Loss: -28.4102935791, Error: -28.4102935791, Penalty: 0.0, MSE: 0.404229283333\n",
      "Loss: -28.4648609161, Error: -28.4648609161, Penalty: 0.0, MSE: 0.403770238161\n",
      "Loss: -28.508020401, Error: -28.508020401, Penalty: 0.0, MSE: 0.404332369566\n",
      "Loss: -28.5534095764, Error: -28.5534095764, Penalty: 0.0, MSE: 0.404466927052\n",
      "Loss: -28.5854606628, Error: -28.5854606628, Penalty: 0.0, MSE: 0.404021471739\n",
      "Loss: -28.6168327332, Error: -28.6168327332, Penalty: 0.0, MSE: 0.403092712164\n",
      "Loss: -28.6538333893, Error: -28.6538333893, Penalty: 0.0, MSE: 0.402789086103\n",
      "Loss: -28.6828479767, Error: -28.6828479767, Penalty: 0.0, MSE: 0.402728319168\n",
      "Loss: -28.7134361267, Error: -28.7134361267, Penalty: 0.0, MSE: 0.401782423258\n",
      "Loss: -28.7435894012, Error: -28.7435894012, Penalty: 0.0, MSE: 0.401974052191\n",
      "Loss: -28.7696342468, Error: -28.7696342468, Penalty: 0.0, MSE: 0.401223123074\n",
      "Loss: -28.7917327881, Error: -28.7917327881, Penalty: 0.0, MSE: 0.401557832956\n",
      "Loss: -28.8117084503, Error: -28.8117084503, Penalty: 0.0, MSE: 0.400442540646\n",
      "Loss: -28.8308238983, Error: -28.8308238983, Penalty: 0.0, MSE: 0.400898516178\n",
      "Loss: -28.8469085693, Error: -28.8469085693, Penalty: 0.0, MSE: 0.399804294109\n",
      "Loss: -28.8615474701, Error: -28.8615474701, Penalty: 0.0, MSE: 0.400149524212\n",
      "Loss: -28.8732032776, Error: -28.8732032776, Penalty: 0.0, MSE: 0.399294316769\n",
      "Loss: -28.8818130493, Error: -28.8818130493, Penalty: 0.0, MSE: 0.400086581707\n",
      "Loss: -28.8894424438, Error: -28.8894424438, Penalty: 0.0, MSE: 0.399776935577\n",
      "Loss: -28.8962745667, Error: -28.8962745667, Penalty: 0.0, MSE: 0.399637550116\n",
      "Loss: -28.9014968872, Error: -28.9014968872, Penalty: 0.0, MSE: 0.399265646935\n",
      "Loss: -28.9068622589, Error: -28.9068622589, Penalty: 0.0, MSE: 0.399325400591\n",
      "Loss: -28.912021637, Error: -28.912021637, Penalty: 0.0, MSE: 0.399160861969\n",
      "Loss: -28.9164924622, Error: -28.9164924622, Penalty: 0.0, MSE: 0.39940571785\n",
      "Loss: -28.9198303223, Error: -28.9198303223, Penalty: 0.0, MSE: 0.39939007163\n",
      "Loss: -28.9250984192, Error: -28.9250984192, Penalty: 0.0, MSE: 0.399216145277\n",
      "Loss: -28.9278411865, Error: -28.9278411865, Penalty: 0.0, MSE: 0.399083077908\n",
      "Loss: -28.9312324524, Error: -28.9312324524, Penalty: 0.0, MSE: 0.398974657059\n",
      "Loss: -28.9349746704, Error: -28.9349746704, Penalty: 0.0, MSE: 0.3989982903\n",
      "Loss: -28.9376983643, Error: -28.9376983643, Penalty: 0.0, MSE: 0.398827463388\n",
      "Loss: -28.9401798248, Error: -28.9401798248, Penalty: 0.0, MSE: 0.399217545986\n",
      "Loss: -28.9445095062, Error: -28.9445095062, Penalty: 0.0, MSE: 0.398710846901\n",
      "Loss: -28.9462852478, Error: -28.9462852478, Penalty: 0.0, MSE: 0.398950815201\n",
      "Loss: -28.9484081268, Error: -28.9484081268, Penalty: 0.0, MSE: 0.398482143879\n",
      "Loss: -28.950378418, Error: -28.950378418, Penalty: 0.0, MSE: 0.398427069187\n",
      "Loss: -28.9527854919, Error: -28.9527854919, Penalty: 0.0, MSE: 0.39854863286\n",
      "Loss: -28.9549484253, Error: -28.9549484253, Penalty: 0.0, MSE: 0.39877513051\n",
      "Loss: -28.9571285248, Error: -28.9571285248, Penalty: 0.0, MSE: 0.398816347122\n",
      "Loss: -28.9591617584, Error: -28.9591617584, Penalty: 0.0, MSE: 0.398899376392\n",
      "Loss: -28.9612731934, Error: -28.9612731934, Penalty: 0.0, MSE: 0.398752480745\n",
      "Loss: -28.9636154175, Error: -28.9636154175, Penalty: 0.0, MSE: 0.398804247379\n",
      "Loss: -28.9657478333, Error: -28.9657478333, Penalty: 0.0, MSE: 0.398990511894\n",
      "Loss: -28.9675941467, Error: -28.9675941467, Penalty: 0.0, MSE: 0.398991465569\n",
      "Loss: -28.968832016, Error: -28.968832016, Penalty: 0.0, MSE: 0.399209737778\n",
      "Loss: -28.9701652527, Error: -28.9701652527, Penalty: 0.0, MSE: 0.398995161057\n",
      "Loss: -28.9711303711, Error: -28.9711303711, Penalty: 0.0, MSE: 0.399123549461\n",
      "Loss: -28.9719314575, Error: -28.9719314575, Penalty: 0.0, MSE: 0.39906796813\n",
      "Loss: -28.9726428986, Error: -28.9726428986, Penalty: 0.0, MSE: 0.399179816246\n",
      "Loss: -28.9734516144, Error: -28.9734516144, Penalty: 0.0, MSE: 0.399146139622\n",
      "Loss: -28.9743061066, Error: -28.9743061066, Penalty: 0.0, MSE: 0.399101436138\n",
      "Loss: -28.9751338959, Error: -28.9751338959, Penalty: 0.0, MSE: 0.398982822895\n",
      "Loss: -28.9761142731, Error: -28.9761142731, Penalty: 0.0, MSE: 0.398892730474\n",
      "Loss: -28.9774494171, Error: -28.9774494171, Penalty: 0.0, MSE: 0.398859918118\n",
      "Loss: -28.9784641266, Error: -28.9784641266, Penalty: 0.0, MSE: 0.39881336689\n",
      "Loss: -28.9796009064, Error: -28.9796009064, Penalty: 0.0, MSE: 0.398849666119\n",
      "Loss: -28.9808177948, Error: -28.9808177948, Penalty: 0.0, MSE: 0.398627132177\n",
      "Loss: -28.9813137054, Error: -28.9813137054, Penalty: 0.0, MSE: 0.399062216282\n",
      "Loss: -28.9821472168, Error: -28.9821472168, Penalty: 0.0, MSE: 0.398753374815\n",
      "Loss: -28.9828014374, Error: -28.9828014374, Penalty: 0.0, MSE: 0.39858341217\n",
      "Loss: -28.9832019806, Error: -28.9832019806, Penalty: 0.0, MSE: 0.398531496525\n",
      "Loss: -28.9837379456, Error: -28.9837379456, Penalty: 0.0, MSE: 0.398621171713\n",
      "Loss: -28.9840717316, Error: -28.9840717316, Penalty: 0.0, MSE: 0.398600637913\n",
      "Loss: -28.9845237732, Error: -28.9845237732, Penalty: 0.0, MSE: 0.398648798466\n",
      "Loss: -28.984834671, Error: -28.984834671, Penalty: 0.0, MSE: 0.398679047823\n",
      "Loss: -28.985212326, Error: -28.985212326, Penalty: 0.0, MSE: 0.398709237576\n",
      "Loss: -28.9855117798, Error: -28.9855117798, Penalty: 0.0, MSE: 0.398730248213\n",
      "Loss: -28.9860248566, Error: -28.9860248566, Penalty: 0.0, MSE: 0.398696392775\n",
      "Loss: -28.9862918854, Error: -28.9862918854, Penalty: 0.0, MSE: 0.398715168238\n",
      "Loss: -28.9865837097, Error: -28.9865837097, Penalty: 0.0, MSE: 0.398673862219\n",
      "Loss: -28.9869022369, Error: -28.9869022369, Penalty: 0.0, MSE: 0.398801267147\n",
      "Loss: -28.9872608185, Error: -28.9872608185, Penalty: 0.0, MSE: 0.398766905069\n",
      "Loss: -28.9875431061, Error: -28.9875431061, Penalty: 0.0, MSE: 0.398750185966\n",
      "Loss: -28.9877738953, Error: -28.9877738953, Penalty: 0.0, MSE: 0.398784250021\n",
      "Loss: -28.9879951477, Error: -28.9879951477, Penalty: 0.0, MSE: 0.398800224066\n",
      "Loss: -28.9882259369, Error: -28.9882259369, Penalty: 0.0, MSE: 0.398832052946\n",
      "Loss: -28.9884376526, Error: -28.9884376526, Penalty: 0.0, MSE: 0.398865193129\n",
      "Loss: -28.9886074066, Error: -28.9886074066, Penalty: 0.0, MSE: 0.398910611868\n",
      "Loss: -28.9888534546, Error: -28.9888534546, Penalty: 0.0, MSE: 0.398939579725\n",
      "Loss: -28.9890708923, Error: -28.9890708923, Penalty: 0.0, MSE: 0.398964136839\n",
      "Loss: -28.9893054962, Error: -28.9893054962, Penalty: 0.0, MSE: 0.399002194405\n",
      "Loss: -28.9895019531, Error: -28.9895019531, Penalty: 0.0, MSE: 0.399035334587\n",
      "Loss: -28.9897785187, Error: -28.9897785187, Penalty: 0.0, MSE: 0.399043828249\n",
      "Loss: -28.9900894165, Error: -28.9900894165, Penalty: 0.0, MSE: 0.399120539427\n",
      "Loss: -28.9903717041, Error: -28.9903717041, Penalty: 0.0, MSE: 0.399173974991\n",
      "Loss: -28.9907188416, Error: -28.9907188416, Penalty: 0.0, MSE: 0.399205356836\n",
      "Loss: -28.9910392761, Error: -28.9910392761, Penalty: 0.0, MSE: 0.399255812168\n",
      "Loss: -28.9914989471, Error: -28.9914989471, Penalty: 0.0, MSE: 0.399242967367\n",
      "Loss: -28.9919605255, Error: -28.9919605255, Penalty: 0.0, MSE: 0.399323821068\n",
      "Loss: -28.992401123, Error: -28.992401123, Penalty: 0.0, MSE: 0.399303734303\n",
      "Loss: -28.9928379059, Error: -28.9928379059, Penalty: 0.0, MSE: 0.399338185787\n",
      "Loss: -28.993144989, Error: -28.993144989, Penalty: 0.0, MSE: 0.399281978607\n",
      "Loss: -28.9937744141, Error: -28.9937744141, Penalty: 0.0, MSE: 0.399417608976\n",
      "Loss: -28.9942741394, Error: -28.9942741394, Penalty: 0.0, MSE: 0.399433523417\n",
      "Loss: -28.9947242737, Error: -28.9947242737, Penalty: 0.0, MSE: 0.399433970451\n",
      "Loss: -28.9953079224, Error: -28.9953079224, Penalty: 0.0, MSE: 0.399407714605\n",
      "Loss: -28.9956378937, Error: -28.9956378937, Penalty: 0.0, MSE: 0.39946731925\n",
      "Loss: -28.9959869385, Error: -28.9959869385, Penalty: 0.0, MSE: 0.399480491877\n",
      "Loss: -28.9963798523, Error: -28.9963798523, Penalty: 0.0, MSE: 0.399483323097\n",
      "Loss: -28.9965877533, Error: -28.9965877533, Penalty: 0.0, MSE: 0.399489194155\n",
      "Loss: -28.9968147278, Error: -28.9968147278, Penalty: 0.0, MSE: 0.399515628815\n",
      "Loss: -28.9970092773, Error: -28.9970092773, Penalty: 0.0, MSE: 0.39950427413\n",
      "Loss: -28.9971427917, Error: -28.9971427917, Penalty: 0.0, MSE: 0.399526447058\n",
      "Loss: -28.997253418, Error: -28.997253418, Penalty: 0.0, MSE: 0.399524718523\n",
      "Loss: -28.9973735809, Error: -28.9973735809, Penalty: 0.0, MSE: 0.399496495724\n",
      "Loss: -28.9974212646, Error: -28.9974212646, Penalty: 0.0, MSE: 0.399493962526\n",
      "Loss: -28.9974746704, Error: -28.9974746704, Penalty: 0.0, MSE: 0.399501621723\n",
      "Loss: -28.9975395203, Error: -28.9975395203, Penalty: 0.0, MSE: 0.399515330791\n",
      "Loss: -28.9975910187, Error: -28.9975910187, Penalty: 0.0, MSE: 0.399514317513\n",
      "Loss: -28.9976196289, Error: -28.9976196289, Penalty: 0.0, MSE: 0.399520874023\n",
      "Loss: -28.9976711273, Error: -28.9976711273, Penalty: 0.0, MSE: 0.399513453245\n",
      "Loss: -28.9976825714, Error: -28.9976825714, Penalty: 0.0, MSE: 0.399510413408\n",
      "Loss: -28.9977207184, Error: -28.9977207184, Penalty: 0.0, MSE: 0.399503171444\n",
      "Loss: -28.9977455139, Error: -28.9977455139, Penalty: 0.0, MSE: 0.39949247241\n",
      "Loss: -28.9977912903, Error: -28.9977912903, Penalty: 0.0, MSE: 0.399491399527\n",
      "Loss: -28.9977989197, Error: -28.9977989197, Penalty: 0.0, MSE: 0.399491846561\n",
      "Loss: -28.9978294373, Error: -28.9978294373, Penalty: 0.0, MSE: 0.399487704039\n",
      "Loss: -28.9978733063, Error: -28.9978733063, Penalty: 0.0, MSE: 0.399473547935\n",
      "Loss: -28.9978942871, Error: -28.9978942871, Penalty: 0.0, MSE: 0.39945563674\n",
      "Loss: -28.9979286194, Error: -28.9979286194, Penalty: 0.0, MSE: 0.399430423975\n",
      "Loss: -28.9979667664, Error: -28.9979667664, Penalty: 0.0, MSE: 0.399419188499\n",
      "Loss: -28.9979972839, Error: -28.9979972839, Penalty: 0.0, MSE: 0.399390369654\n",
      "Loss: -28.9980316162, Error: -28.9980316162, Penalty: 0.0, MSE: 0.399370402098\n",
      "Loss: -28.9980678558, Error: -28.9980678558, Penalty: 0.0, MSE: 0.399372398853\n",
      "Loss: -28.9981231689, Error: -28.9981231689, Penalty: 0.0, MSE: 0.399358659983\n",
      "Loss: -28.9981575012, Error: -28.9981575012, Penalty: 0.0, MSE: 0.399352550507\n",
      "Loss: -28.9982032776, Error: -28.9982032776, Penalty: 0.0, MSE: 0.399336010218\n",
      "Loss: -28.9982643127, Error: -28.9982643127, Penalty: 0.0, MSE: 0.399270921946\n",
      "Loss: -28.9983482361, Error: -28.9983482361, Penalty: 0.0, MSE: 0.399295628071\n",
      "Loss: -28.99842453, Error: -28.99842453, Penalty: 0.0, MSE: 0.399300664663\n",
      "Loss: -28.9985256195, Error: -28.9985256195, Penalty: 0.0, MSE: 0.399237394333\n",
      "Loss: -28.9985847473, Error: -28.9985847473, Penalty: 0.0, MSE: 0.399300903082\n",
      "Loss: -28.9986610413, Error: -28.9986610413, Penalty: 0.0, MSE: 0.399299412966\n",
      "Loss: -28.9987316132, Error: -28.9987316132, Penalty: 0.0, MSE: 0.399284958839\n",
      "Loss: -28.9987716675, Error: -28.9987716675, Penalty: 0.0, MSE: 0.399314403534\n",
      "Loss: -28.9988155365, Error: -28.9988155365, Penalty: 0.0, MSE: 0.39923876524\n",
      "Loss: -28.9989089966, Error: -28.9989089966, Penalty: 0.0, MSE: 0.399262279272\n",
      "Loss: -28.9989433289, Error: -28.9989433289, Penalty: 0.0, MSE: 0.39928111434\n",
      "Loss: -28.9989776611, Error: -28.9989776611, Penalty: 0.0, MSE: 0.399281442165\n",
      "Loss: -28.9990272522, Error: -28.9990272522, Penalty: 0.0, MSE: 0.399261713028\n",
      "Loss: -28.9990921021, Error: -28.9990921021, Penalty: 0.0, MSE: 0.399262309074\n",
      "Loss: -28.9991321564, Error: -28.9991321564, Penalty: 0.0, MSE: 0.39926558733\n",
      "Loss: -28.9991836548, Error: -28.9991836548, Penalty: 0.0, MSE: 0.399254471064\n",
      "Loss: -28.9992523193, Error: -28.9992523193, Penalty: 0.0, MSE: 0.399265676737\n",
      "Loss: -28.9993190765, Error: -28.9993190765, Penalty: 0.0, MSE: 0.39924287796\n",
      "Loss: -28.9993991852, Error: -28.9993991852, Penalty: 0.0, MSE: 0.399254322052\n",
      "Loss: -28.9994621277, Error: -28.9994621277, Penalty: 0.0, MSE: 0.39923837781\n",
      "Loss: -28.9995193481, Error: -28.9995193481, Penalty: 0.0, MSE: 0.399267226458\n",
      "Loss: -28.9995803833, Error: -28.9995803833, Penalty: 0.0, MSE: 0.399261713028\n",
      "Loss: -28.9996376038, Error: -28.9996376038, Penalty: 0.0, MSE: 0.39922440052\n",
      "Loss: -28.9997024536, Error: -28.9997024536, Penalty: 0.0, MSE: 0.399199217558\n",
      "Loss: -28.9997882843, Error: -28.9997882843, Penalty: 0.0, MSE: 0.39912122488\n",
      "Loss: -28.9998779297, Error: -28.9998779297, Penalty: 0.0, MSE: 0.399066179991\n",
      "Loss: -29.0000019073, Error: -29.0000019073, Penalty: 0.0, MSE: 0.399072617292\n",
      "Loss: -29.0000953674, Error: -29.0000953674, Penalty: 0.0, MSE: 0.39888587594\n",
      "Loss: -29.0003166199, Error: -29.0003166199, Penalty: 0.0, MSE: 0.398993581533\n",
      "Loss: -29.0005874634, Error: -29.0005874634, Penalty: 0.0, MSE: 0.398987621069\n",
      "Loss: -29.0008449554, Error: -29.0008449554, Penalty: 0.0, MSE: 0.398882836103\n",
      "Loss: -29.0010585785, Error: -29.0010585785, Penalty: 0.0, MSE: 0.398990750313\n",
      "Loss: -29.0014629364, Error: -29.0014629364, Penalty: 0.0, MSE: 0.398815959692\n",
      "Loss: -29.001865387, Error: -29.001865387, Penalty: 0.0, MSE: 0.398741543293\n",
      "Loss: -29.0021572113, Error: -29.0021572113, Penalty: 0.0, MSE: 0.398718267679\n",
      "Loss: -29.0024662018, Error: -29.0024662018, Penalty: 0.0, MSE: 0.398708403111\n",
      "Loss: -29.0028953552, Error: -29.0028953552, Penalty: 0.0, MSE: 0.398726850748\n",
      "Loss: -29.003238678, Error: -29.003238678, Penalty: 0.0, MSE: 0.398670881987\n",
      "Loss: -29.003528595, Error: -29.003528595, Penalty: 0.0, MSE: 0.398689806461\n",
      "Loss: -29.0038375854, Error: -29.0038375854, Penalty: 0.0, MSE: 0.39857929945\n",
      "Loss: -29.0040054321, Error: -29.0040054321, Penalty: 0.0, MSE: 0.398699313402\n",
      "Loss: -29.0042762756, Error: -29.0042762756, Penalty: 0.0, MSE: 0.398619174957\n",
      "Loss: -29.0044536591, Error: -29.0044536591, Penalty: 0.0, MSE: 0.398573070765\n",
      "Loss: -29.0046653748, Error: -29.0046653748, Penalty: 0.0, MSE: 0.398576945066\n",
      "Loss: -29.00481987, Error: -29.00481987, Penalty: 0.0, MSE: 0.398540794849\n",
      "Loss: -29.0049743652, Error: -29.0049743652, Penalty: 0.0, MSE: 0.39854568243\n",
      "Loss: -29.0050811768, Error: -29.0050811768, Penalty: 0.0, MSE: 0.398558884859\n",
      "Loss: -29.0051765442, Error: -29.0051765442, Penalty: 0.0, MSE: 0.398550093174\n",
      "Loss: -29.0052814484, Error: -29.0052814484, Penalty: 0.0, MSE: 0.398523122072\n",
      "Loss: -29.0053577423, Error: -29.0053577423, Penalty: 0.0, MSE: 0.398512214422\n",
      "Loss: -29.0054130554, Error: -29.0054130554, Penalty: 0.0, MSE: 0.398511469364\n",
      "Loss: -29.0054531097, Error: -29.0054531097, Penalty: 0.0, MSE: 0.398519277573\n",
      "Loss: -29.0055103302, Error: -29.0055103302, Penalty: 0.0, MSE: 0.398535400629\n",
      "Loss: -29.0055580139, Error: -29.0055580139, Penalty: 0.0, MSE: 0.3985440135\n",
      "Loss: -29.005607605, Error: -29.005607605, Penalty: 0.0, MSE: 0.39855492115\n",
      "Loss: -29.005651474, Error: -29.005651474, Penalty: 0.0, MSE: 0.398565739393\n",
      "Loss: -29.0056781769, Error: -29.0056781769, Penalty: 0.0, MSE: 0.398577809334\n",
      "Loss: -29.005739212, Error: -29.005739212, Penalty: 0.0, MSE: 0.398575752974\n",
      "Loss: -29.0057964325, Error: -29.0057964325, Penalty: 0.0, MSE: 0.398571759462\n",
      "Loss: -29.0058174133, Error: -29.0058174133, Penalty: 0.0, MSE: 0.398571193218\n",
      "Loss: -29.005865097, Error: -29.005865097, Penalty: 0.0, MSE: 0.398572385311\n",
      "Loss: -29.0059242249, Error: -29.0059242249, Penalty: 0.0, MSE: 0.398569017649\n",
      "Loss: -29.0059547424, Error: -29.0059547424, Penalty: 0.0, MSE: 0.39856505394\n",
      "Loss: -29.0060005188, Error: -29.0060005188, Penalty: 0.0, MSE: 0.398562699556\n",
      "Loss: -29.0060253143, Error: -29.0060253143, Penalty: 0.0, MSE: 0.39854490757\n",
      "Loss: -29.0060710907, Error: -29.0060710907, Penalty: 0.0, MSE: 0.398537695408\n",
      "Loss: -29.006111145, Error: -29.006111145, Penalty: 0.0, MSE: 0.398530930281\n",
      "Loss: -29.0061378479, Error: -29.0061378479, Penalty: 0.0, MSE: 0.398523241282\n",
      "Loss: -29.0061531067, Error: -29.0061531067, Penalty: 0.0, MSE: 0.398525059223\n",
      "Loss: -29.0061855316, Error: -29.0061855316, Penalty: 0.0, MSE: 0.3985273242\n",
      "Loss: -29.0062217712, Error: -29.0062217712, Penalty: 0.0, MSE: 0.398515671492\n",
      "Loss: -29.0062427521, Error: -29.0062427521, Penalty: 0.0, MSE: 0.398515224457\n",
      "Loss: -29.0062618256, Error: -29.0062618256, Penalty: 0.0, MSE: 0.398513913155\n",
      "Loss: -29.0062885284, Error: -29.0062885284, Penalty: 0.0, MSE: 0.398510694504\n",
      "Loss: -29.0063114166, Error: -29.0063114166, Penalty: 0.0, MSE: 0.398506432772\n",
      "Loss: -29.0063514709, Error: -29.0063514709, Penalty: 0.0, MSE: 0.398475825787\n",
      "Loss: -29.0064163208, Error: -29.0064163208, Penalty: 0.0, MSE: 0.398461848497\n",
      "Loss: -29.0064544678, Error: -29.0064544678, Penalty: 0.0, MSE: 0.398466169834\n",
      "Loss: -29.0065250397, Error: -29.0065250397, Penalty: 0.0, MSE: 0.398430943489\n",
      "Loss: -29.0066223145, Error: -29.0066223145, Penalty: 0.0, MSE: 0.398411393166\n",
      "Loss: -29.0067481995, Error: -29.0067481995, Penalty: 0.0, MSE: 0.398401260376\n",
      "Loss: -29.0069541931, Error: -29.0069541931, Penalty: 0.0, MSE: 0.398353844881\n",
      "Loss: -29.0069847107, Error: -29.0069847107, Penalty: 0.0, MSE: 0.398454785347\n",
      "Loss: -29.0071697235, Error: -29.0071697235, Penalty: 0.0, MSE: 0.398286104202\n",
      "Loss: -29.00730896, Error: -29.00730896, Penalty: 0.0, MSE: 0.398325890303\n",
      "Loss: -29.0074462891, Error: -29.0074462891, Penalty: 0.0, MSE: 0.398337841034\n",
      "Loss: -29.0076026917, Error: -29.0076026917, Penalty: 0.0, MSE: 0.398336917162\n",
      "Loss: -29.0077228546, Error: -29.0077228546, Penalty: 0.0, MSE: 0.398345410824\n",
      "Loss: -29.0078468323, Error: -29.0078468323, Penalty: 0.0, MSE: 0.398319780827\n",
      "Loss: -29.0079593658, Error: -29.0079593658, Penalty: 0.0, MSE: 0.39834985137\n",
      "Loss: -29.0080242157, Error: -29.0080242157, Penalty: 0.0, MSE: 0.398312181234\n",
      "Loss: -29.008102417, Error: -29.008102417, Penalty: 0.0, MSE: 0.398299217224\n",
      "Loss: -29.0081748962, Error: -29.0081748962, Penalty: 0.0, MSE: 0.398269027472\n",
      "Loss: -29.008228302, Error: -29.008228302, Penalty: 0.0, MSE: 0.398253649473\n",
      "Loss: -29.0082702637, Error: -29.0082702637, Penalty: 0.0, MSE: 0.398253530264\n",
      "Loss: -29.0083255768, Error: -29.0083255768, Penalty: 0.0, MSE: 0.398243278265\n",
      "Loss: -29.0083770752, Error: -29.0083770752, Penalty: 0.0, MSE: 0.39822652936\n",
      "Loss: -29.0084171295, Error: -29.0084171295, Penalty: 0.0, MSE: 0.398172527552\n",
      "Loss: -29.0084648132, Error: -29.0084648132, Penalty: 0.0, MSE: 0.398155599833\n",
      "Loss: -29.0084877014, Error: -29.0084877014, Penalty: 0.0, MSE: 0.398152321577\n",
      "Loss: -29.0085411072, Error: -29.0085411072, Penalty: 0.0, MSE: 0.398129612207\n",
      "Loss: -29.0085716248, Error: -29.0085716248, Penalty: 0.0, MSE: 0.398094445467\n",
      "Loss: -29.0086154938, Error: -29.0086154938, Penalty: 0.0, MSE: 0.398070007563\n",
      "Loss: -29.0086517334, Error: -29.0086517334, Penalty: 0.0, MSE: 0.398053377867\n",
      "Loss: -29.0086936951, Error: -29.0086936951, Penalty: 0.0, MSE: 0.398039788008\n",
      "Loss: -29.0087223053, Error: -29.0087223053, Penalty: 0.0, MSE: 0.398024886847\n",
      "Loss: -29.0087451935, Error: -29.0087451935, Penalty: 0.0, MSE: 0.398019313812\n",
      "Loss: -29.0087890625, Error: -29.0087890625, Penalty: 0.0, MSE: 0.398012310266\n",
      "Loss: -29.0088233948, Error: -29.0088233948, Penalty: 0.0, MSE: 0.398010313511\n",
      "Loss: -29.0088481903, Error: -29.0088481903, Penalty: 0.0, MSE: 0.39800748229\n",
      "Loss: -29.0088768005, Error: -29.0088768005, Penalty: 0.0, MSE: 0.397997796535\n",
      "Loss: -29.008895874, Error: -29.008895874, Penalty: 0.0, MSE: 0.39799541235\n",
      "Loss: -29.0089054108, Error: -29.0089054108, Penalty: 0.0, MSE: 0.39799246192\n",
      "Loss: -29.0089492798, Error: -29.0089492798, Penalty: 0.0, MSE: 0.397983580828\n",
      "Loss: -29.0089740753, Error: -29.0089740753, Penalty: 0.0, MSE: 0.397981703281\n",
      "Loss: -29.0089797974, Error: -29.0089797974, Penalty: 0.0, MSE: 0.397976517677\n",
      "Loss: -29.0089988708, Error: -29.0089988708, Penalty: 0.0, MSE: 0.397973388433\n",
      "Loss: -29.009016037, Error: -29.009016037, Penalty: 0.0, MSE: 0.397968918085\n",
      "Loss: -29.0090198517, Error: -29.0090198517, Penalty: 0.0, MSE: 0.397966265678\n",
      "Loss: -29.0090236664, Error: -29.0090236664, Penalty: 0.0, MSE: 0.397959023714\n",
      "Loss: -29.0090293884, Error: -29.0090293884, Penalty: 0.0, MSE: 0.397956192493\n",
      "Loss: -29.0090389252, Error: -29.0090389252, Penalty: 0.0, MSE: 0.397952824831\n",
      "Loss: -29.0090389252, Error: -29.0090389252, Penalty: 0.0, MSE: 0.397949963808\n",
      "Loss: -29.0090427399, Error: -29.0090427399, Penalty: 0.0, MSE: 0.397948861122\n",
      "Loss: -29.0090560913, Error: -29.0090560913, Penalty: 0.0, MSE: 0.397948682308\n",
      "Loss: -29.0090560913, Error: -29.0090560913, Penalty: 0.0, MSE: 0.397949904203\n",
      "Loss: -29.009059906, Error: -29.009059906, Penalty: 0.0, MSE: 0.397951632738\n",
      "Loss: -29.0090637207, Error: -29.0090637207, Penalty: 0.0, MSE: 0.397952198982\n",
      "Loss: -29.0090694427, Error: -29.0090694427, Penalty: 0.0, MSE: 0.397951632738\n",
      "Loss: -29.0090694427, Error: -29.0090694427, Penalty: 0.0, MSE: 0.397951632738\n",
      "ICA with L-BFGS-B done!\n",
      "Final loss value: -29.0090694427\n",
      "[array(-29.009069442749023, dtype=float32), array(-29.009069442749023, dtype=float32), array(0.0, dtype=float32), array(0.3979516625404358, dtype=float32)]\n"
     ]
    }
   ],
   "source": [
    "print(model.losses(X_zca))\n",
    "model.fit(X_zca) #, n_epochs=1000)\n",
    "print(model.losses(X_zca))"
   ]
  },
  {
   "cell_type": "code",
   "execution_count": 35,
   "metadata": {},
   "outputs": [],
   "source": [
    "sq = int(np.ceil(np.sqrt(n_sources)))\n",
    "im = tri(model.components_, (patch_size, patch_size), (sq, sq), (2, 2))\n",
    "plt.imshow(im, cmap='gray', interpolation='nearest')\n",
    "plt.show()"
   ]
  },
  {
   "cell_type": "markdown",
   "metadata": {},
   "source": [
    "# SM ICA"
   ]
  },
  {
   "cell_type": "code",
   "execution_count": 11,
   "metadata": {},
   "outputs": [],
   "source": [
    "x = np.linspace(-2, 2, 100)\n",
    "y = np.linspace(-2, 2, 100)\n",
    "x, y = np.meshgrid(x, y)\n",
    "\n",
    "f, (ax1, ax2) = plt.subplots(1, 2, figsize=(6, 3))\n",
    "\n",
    "z = np.log(np.cosh(x)) + np.log(np.cosh(y))\n",
    "z = z-z.min()\n",
    "z = z/z.max()\n",
    "ax1.contour(x, y, z, aspect='equal', cmap='viridis')\n",
    "ax1.set_title('log(cosh(s))')\n",
    "ax1.set_xlabel('s1')\n",
    "ax1.set_ylabel('s2')\n",
    "\n",
    "z = (-1+1.5*np.tanh(x)**2) + (-1+.5*np.tanh(y)**2)\n",
    "z = z-z.min()\n",
    "z = z/z.max()\n",
    "ax2.contour(x, y, z, aspect='equal', cmap='viridis')\n",
    "ax2.set_title('-1+.5tanh(s1)^2')\n",
    "ax2.set_xlabel('s1')\n",
    "ax2.set_ylabel('s2')\n",
    "\n",
    "plt.tight_layout()\n",
    "plt.show()"
   ]
  },
  {
   "cell_type": "code",
   "execution_count": null,
   "metadata": {
    "collapsed": true
   },
   "outputs": [],
   "source": []
  }
 ],
 "metadata": {
  "anaconda-cloud": {},
  "kernelspec": {
   "display_name": "Python 2",
   "language": "python",
   "name": "python2"
  },
  "language_info": {
   "codemirror_mode": {
    "name": "ipython",
    "version": 2
   },
   "file_extension": ".py",
   "mimetype": "text/x-python",
   "name": "python",
   "nbconvert_exporter": "python",
   "pygments_lexer": "ipython2",
   "version": "2.7.14"
  }
 },
 "nbformat": 4,
 "nbformat_minor": 1
}
