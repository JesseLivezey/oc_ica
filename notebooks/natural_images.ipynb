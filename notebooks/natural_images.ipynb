{
 "cells": [
  {
   "cell_type": "code",
   "execution_count": 7,
   "metadata": {
    "collapsed": false
   },
   "outputs": [],
   "source": [
    "import glob, h5py, os\n",
    "import numpy as np\n",
    "import matplotlib.pyplot as plt\n",
    "\n",
    "from oc_ica import gabor_fit, plotting"
   ]
  },
  {
   "cell_type": "code",
   "execution_count": 5,
   "metadata": {
    "collapsed": true
   },
   "outputs": [],
   "source": [
    "folder = '/home/jesse/Development/results/oc_ica/nat_images_mixtures-64_sources-128/'"
   ]
  },
  {
   "cell_type": "code",
   "execution_count": 15,
   "metadata": {
    "collapsed": false
   },
   "outputs": [
    {
     "name": "stdout",
     "output_type": "stream",
     "text": [
      "0.0 4.71238898038 0.525077115546 0.51908373559\n",
      "0.448798950513 4.71238898038 0.520953092692 0.518931369178\n",
      "0.897597901026 4.71238898038 0.543945201844 0.518862987664\n",
      "1.34639685154 4.71238898038 0.52890989241 0.518528450792\n",
      "1.79519580205 4.71238898038 0.534539796933 0.518501920651\n",
      "2.24399475256 4.71238898038 0.549312081604 0.518495491339\n",
      "2.69279370308 4.71238898038 0.533778419728 0.518494943763\n",
      "3.14159265359 4.71238898038 0.529147735106 0.518491675185\n",
      "0.0 4.71238898038 0.434486867169 0.384022584411\n",
      "0.448798950513 4.71238898038 0.425347768818 0.384014984113\n",
      "0.897597901026 4.71238898038 0.55381964728 0.384012771128\n",
      "1.34639685154 4.71238898038 0.494769661606 0.384012727427\n",
      "1.79519580205 4.71238898038 0.538911776671 0.384010921913\n",
      "2.24399475256 4.71238898038 0.549431479672 0.384005707245\n",
      "2.69279370308 4.71238898038 0.515548071819 0.384005598522\n",
      "3.14159265359 4.71238898038 0.492887746831 0.384005594397\n",
      "0.0 4.71238898038 0.549183963726 0.333634263959\n",
      "0.448798950513 4.71238898038 0.754736347048 0.333515314279\n",
      "0.897597901026 4.71238898038 0.890076591058 0.333512861096\n",
      "1.34639685154 4.71238898038 0.739715129559 0.333512697247\n",
      "1.79519580205 4.71238898038 0.760931983572 0.333512503285\n",
      "2.24399475256 4.71238898038 0.924553238813 0.33350908517\n",
      "2.69279370308 4.71238898038 0.861439998143 0.333509080406\n",
      "3.14159265359 4.71238898038 0.596112545307 0.33350908027\n"
     ]
    },
    {
     "ename": "AttributeError",
     "evalue": "'list' object has no attribute 'shape'",
     "output_type": "error",
     "traceback": [
      "\u001b[1;31m---------------------------------------------------------------------------\u001b[0m",
      "\u001b[1;31mAttributeError\u001b[0m                            Traceback (most recent call last)",
      "\u001b[1;32m<ipython-input-15-b9510ea5a8fb>\u001b[0m in \u001b[0;36m<module>\u001b[1;34m()\u001b[0m\n\u001b[0;32m      5\u001b[0m         \u001b[0mw\u001b[0m \u001b[1;33m=\u001b[0m \u001b[0mf\u001b[0m\u001b[1;33m[\u001b[0m\u001b[1;34m'W_fits'\u001b[0m\u001b[1;33m]\u001b[0m\u001b[1;33m.\u001b[0m\u001b[0mvalue\u001b[0m\u001b[1;33m\u001b[0m\u001b[0m\n\u001b[0;32m      6\u001b[0m         \u001b[0mparams\u001b[0m \u001b[1;33m=\u001b[0m \u001b[0mplotting\u001b[0m\u001b[1;33m.\u001b[0m\u001b[0mget_Gabor_params\u001b[0m\u001b[1;33m(\u001b[0m\u001b[0mw\u001b[0m\u001b[1;33m)\u001b[0m\u001b[1;33m\u001b[0m\u001b[0m\n\u001b[1;32m----> 7\u001b[1;33m         \u001b[1;32mprint\u001b[0m \u001b[0mparams\u001b[0m\u001b[1;33m.\u001b[0m\u001b[0mshape\u001b[0m\u001b[1;33m\u001b[0m\u001b[0m\n\u001b[0m\u001b[0;32m      8\u001b[0m     \u001b[1;32mbreak\u001b[0m\u001b[1;33m\u001b[0m\u001b[0m\n",
      "\u001b[1;31mAttributeError\u001b[0m: 'list' object has no attribute 'shape'"
     ]
    }
   ],
   "source": [
    "files = glob.glob(os.path.join(folder, '*.h5'))\n",
    "\n",
    "for fname in files:\n",
    "    with h5py.File(fname) as f:\n",
    "        w = f['W_fits'].value\n",
    "        params = plotting.get_Gabor_params(w)\n",
    "        print params.shape\n",
    "    break"
   ]
  },
  {
   "cell_type": "code",
   "execution_count": null,
   "metadata": {
    "collapsed": true
   },
   "outputs": [],
   "source": []
  }
 ],
 "metadata": {
  "kernelspec": {
   "display_name": "Python 2",
   "language": "python",
   "name": "python2"
  },
  "language_info": {
   "codemirror_mode": {
    "name": "ipython",
    "version": 2
   },
   "file_extension": ".py",
   "mimetype": "text/x-python",
   "name": "python",
   "nbconvert_exporter": "python",
   "pygments_lexer": "ipython2",
   "version": "2.7.12"
  }
 },
 "nbformat": 4,
 "nbformat_minor": 0
}
