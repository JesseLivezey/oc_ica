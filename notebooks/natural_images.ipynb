{
 "cells": [
  {
   "cell_type": "code",
   "execution_count": 6,
   "metadata": {
    "collapsed": false
   },
   "outputs": [],
   "source": [
    "import glob, h5py, os\n",
    "import numpy as np\n",
    "import matplotlib.pyplot as plt\n",
    "\n",
    "from oc_ica import gabor_fit, plotting, analysis"
   ]
  },
  {
   "cell_type": "code",
   "execution_count": 2,
   "metadata": {
    "collapsed": false
   },
   "outputs": [
    {
     "name": "stdout",
     "output_type": "stream",
     "text": [
      "['2', '3', '4', 'COHERENCE_SOFT', 'COULOMB', 'COULOMB_F', 'RANDOM', 'RANDOM_F']\n"
     ]
    }
   ],
   "source": [
    "folder = '/home/jesse/Development/results/oc_ica/nat_images_mixtures-64_sources-128/'\n",
    "files = sorted(glob.glob(os.path.join(folder, '*.h5')))\n",
    "models = [f.split('.')[0].split('-')[-1] for f in files]\n",
    "n_mixtures = int(folder.split('-')[-2].split('_')[0])\n",
    "n_sources = int(folder.split('-')[-1].split('_')[0][:-1])\n",
    "print(models)"
   ]
  },
  {
   "cell_type": "code",
   "execution_count": 4,
   "metadata": {
    "collapsed": false
   },
   "outputs": [],
   "source": [
    "ws = np.full((len(models), n_sources, n_mixtures), np.nan)\n",
    "for ii, fname in enumerate(files):\n",
    "    with h5py.File(fname) as f:\n",
    "        ws[ii] = f['W_fits'].value"
   ]
  },
  {
   "cell_type": "code",
   "execution_count": 5,
   "metadata": {
    "collapsed": false
   },
   "outputs": [],
   "source": [
    "params = plotting.get_Gabor_params(ws)"
   ]
  },
  {
   "cell_type": "code",
   "execution_count": 9,
   "metadata": {
    "collapsed": false
   },
   "outputs": [],
   "source": [
    "reload(plotting)\n",
    "#plotting.plot_GaborFit_xy(params[0][1], int(np.sqrt(n_mixtures)))\n",
    "plotting.plot_GaborFit_polar(params[0][1])\n",
    "#plotting.plot_GaborFit_envelope(params[0][1])\n",
    "plt.show()"
   ]
  },
  {
   "cell_type": "code",
   "execution_count": 51,
   "metadata": {
    "collapsed": true
   },
   "outputs": [],
   "source": [
    "fitter = gabor_fit.GaborFit()"
   ]
  },
  {
   "cell_type": "code",
   "execution_count": 74,
   "metadata": {
    "collapsed": false
   },
   "outputs": [],
   "source": [
    "reload(plotting)\n",
    "plotting.plot_bases(ws[0])\n",
    "wp = fitter.make_gabor(params[0][0][-1], 8, 8).T\n",
    "wp = wp.reshape(wp.shape[0], -1)\n",
    "plotting.plot_bases(wp)\n",
    "plt.show()"
   ]
  },
  {
   "cell_type": "code",
   "execution_count": 25,
   "metadata": {
    "collapsed": false
   },
   "outputs": [],
   "source": [
    "reload(plotting)\n",
    "idxs = [0, 4, 6, 2]\n",
    "w = ws[idxs]\n",
    "plotting.plot_figure3(w)"
   ]
  },
  {
   "cell_type": "code",
   "execution_count": 9,
   "metadata": {
    "collapsed": false
   },
   "outputs": [
    {
     "data": {
      "text/plain": [
       "(8, 128, 64)"
      ]
     },
     "execution_count": 9,
     "metadata": {},
     "output_type": "execute_result"
    }
   ],
   "source": [
    "ws.shape"
   ]
  },
  {
   "cell_type": "code",
   "execution_count": null,
   "metadata": {
    "collapsed": true
   },
   "outputs": [],
   "source": []
  }
 ],
 "metadata": {
  "kernelspec": {
   "display_name": "Python 2",
   "language": "python",
   "name": "python2"
  },
  "language_info": {
   "codemirror_mode": {
    "name": "ipython",
    "version": 2
   },
   "file_extension": ".py",
   "mimetype": "text/x-python",
   "name": "python",
   "nbconvert_exporter": "python",
   "pygments_lexer": "ipython2",
   "version": "2.7.12"
  }
 },
 "nbformat": 4,
 "nbformat_minor": 0
}
